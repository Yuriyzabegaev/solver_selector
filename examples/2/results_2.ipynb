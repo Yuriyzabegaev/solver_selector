{
 "cells": [
  {
   "cell_type": "code",
   "execution_count": 1,
   "metadata": {},
   "outputs": [],
   "source": [
    "import numpy as np\n",
    "from matplotlib import pyplot as plt\n",
    "import seaborn as sns\n",
    "from pathlib import Path\n",
    "from data_scripts import *\n",
    "import pandas as pd\n",
    "\n",
    "\n",
    "NUM_SIMS = 3\n",
    "CONVERGED = False\n",
    "USE_SIMULATED_TIME = False"
   ]
  },
  {
   "cell_type": "code",
   "execution_count": 2,
   "metadata": {},
   "outputs": [
    {
     "name": "stdout",
     "output_type": "stream",
     "text": [
      "Loading data:\n",
      "/home/firedrake/solver_selector/examples/2/performance/poro_coldstart_m_16.npy\n",
      "/home/firedrake/solver_selector/examples/2/performance/poro_coldstart_m_17.npy\n",
      "/home/firedrake/solver_selector/examples/2/performance/poro_coldstart_m_18.npy\n"
     ]
    },
    {
     "name": "stderr",
     "output_type": "stream",
     "text": [
      "/home/firedrake/porepy/src/porepy/numerics/nonlinear/nonlinear_solvers.py:13: TqdmExperimentalWarning: Using `tqdm.autonotebook.tqdm` in notebook mode. Use `tqdm.tqdm` instead to force console mode (e.g. in jupyter console)\n",
      "  from tqdm.autonotebook import trange  # type: ignore\n"
     ]
    },
    {
     "name": "stdout",
     "output_type": "stream",
     "text": [
      "Loading data:\n",
      "/home/firedrake/solver_selector/examples/2/performance/poro_warmstart_m_s_16.npy\n",
      "/home/firedrake/solver_selector/examples/2/performance/poro_warmstart_m_s_17.npy\n",
      "/home/firedrake/solver_selector/examples/2/performance/poro_warmstart_m_s_18.npy\n"
     ]
    },
    {
     "data": {
      "text/html": [
       "<div>\n",
       "<style scoped>\n",
       "    .dataframe tbody tr th:only-of-type {\n",
       "        vertical-align: middle;\n",
       "    }\n",
       "\n",
       "    .dataframe tbody tr th {\n",
       "        vertical-align: top;\n",
       "    }\n",
       "\n",
       "    .dataframe thead th {\n",
       "        text-align: right;\n",
       "    }\n",
       "</style>\n",
       "<table border=\"1\" class=\"dataframe\">\n",
       "  <thead>\n",
       "    <tr style=\"text-align: right;\">\n",
       "      <th></th>\n",
       "      <th>Worst</th>\n",
       "      <th>Mean</th>\n",
       "      <th>Best</th>\n",
       "    </tr>\n",
       "  </thead>\n",
       "  <tbody>\n",
       "    <tr>\n",
       "      <th>Cold</th>\n",
       "      <td>63.859987</td>\n",
       "      <td>63.263342</td>\n",
       "      <td>62.643816</td>\n",
       "    </tr>\n",
       "    <tr>\n",
       "      <th>Warm</th>\n",
       "      <td>65.363031</td>\n",
       "      <td>64.582697</td>\n",
       "      <td>63.372173</td>\n",
       "    </tr>\n",
       "  </tbody>\n",
       "</table>\n",
       "</div>"
      ],
      "text/plain": [
       "          Worst       Mean       Best\n",
       "Cold  63.859987  63.263342  62.643816\n",
       "Warm  65.363031  64.582697  63.372173"
      ]
     },
     "execution_count": 2,
     "metadata": {},
     "output_type": "execute_result"
    }
   ],
   "source": [
    "data = {\n",
    "    \"Cold\": load_data(\"poro_coldstart_m\", n_newest=NUM_SIMS),\n",
    "    \"Warm\": load_data(\"poro_warmstart_m_s\", n_newest=NUM_SIMS),\n",
    "}\n",
    "\n",
    "times_dict = dict()\n",
    "for name, values in data.items():\n",
    "    times_dict[name] = []\n",
    "    for perf in values:\n",
    "        res = np.sum(\n",
    "            sum_per_time_step(\n",
    "                make_solve_linear_system_time(perf, converged=CONVERGED),\n",
    "                perf,\n",
    "                converged=CONVERGED,\n",
    "            )\n",
    "        )\n",
    "        times_dict[name].append(res)\n",
    "\n",
    "\n",
    "times = pd.DataFrame.from_dict(times_dict).T\n",
    "new_data = {\n",
    "    'Worst': times.max(axis=1),\n",
    "    'Mean': times.mean(axis=1),\n",
    "    'Best': times.min(axis=1),\n",
    "}\n",
    "df_mandel_m = pd.DataFrame.from_dict(new_data)\n",
    "df_mandel_m"
   ]
  },
  {
   "cell_type": "code",
   "execution_count": 3,
   "metadata": {},
   "outputs": [
    {
     "name": "stdout",
     "output_type": "stream",
     "text": [
      "Loading data:\n",
      "/home/firedrake/solver_selector/examples/2/performance/poro_coldstart_l_16.npy\n",
      "/home/firedrake/solver_selector/examples/2/performance/poro_coldstart_l_17.npy\n",
      "/home/firedrake/solver_selector/examples/2/performance/poro_coldstart_l_18.npy\n",
      "Loading data:\n",
      "/home/firedrake/solver_selector/examples/2/performance/poro_warmstart_l_sm_16.npy\n",
      "/home/firedrake/solver_selector/examples/2/performance/poro_warmstart_l_sm_17.npy\n",
      "/home/firedrake/solver_selector/examples/2/performance/poro_warmstart_l_sm_18.npy\n"
     ]
    },
    {
     "data": {
      "text/html": [
       "<div>\n",
       "<style scoped>\n",
       "    .dataframe tbody tr th:only-of-type {\n",
       "        vertical-align: middle;\n",
       "    }\n",
       "\n",
       "    .dataframe tbody tr th {\n",
       "        vertical-align: top;\n",
       "    }\n",
       "\n",
       "    .dataframe thead th {\n",
       "        text-align: right;\n",
       "    }\n",
       "</style>\n",
       "<table border=\"1\" class=\"dataframe\">\n",
       "  <thead>\n",
       "    <tr style=\"text-align: right;\">\n",
       "      <th></th>\n",
       "      <th>Worst</th>\n",
       "      <th>Mean</th>\n",
       "      <th>Best</th>\n",
       "    </tr>\n",
       "  </thead>\n",
       "  <tbody>\n",
       "    <tr>\n",
       "      <th>Cold</th>\n",
       "      <td>209.897013</td>\n",
       "      <td>201.792319</td>\n",
       "      <td>196.995260</td>\n",
       "    </tr>\n",
       "    <tr>\n",
       "      <th>Warm</th>\n",
       "      <td>199.957052</td>\n",
       "      <td>197.875116</td>\n",
       "      <td>196.701282</td>\n",
       "    </tr>\n",
       "  </tbody>\n",
       "</table>\n",
       "</div>"
      ],
      "text/plain": [
       "           Worst        Mean        Best\n",
       "Cold  209.897013  201.792319  196.995260\n",
       "Warm  199.957052  197.875116  196.701282"
      ]
     },
     "execution_count": 3,
     "metadata": {},
     "output_type": "execute_result"
    }
   ],
   "source": [
    "data = {\n",
    "    \"Cold\": load_data(\"poro_coldstart_l\", n_newest=NUM_SIMS),\n",
    "    # \"Warmstart L(S)\": load_data(\"poro_warmstart_l_s\", n_newest=NUM_SIMS),\n",
    "    # \"Warmstart L(M)\": load_data(\"poro_warmstart_l_m\", n_newest=NUM_SIMS),\n",
    "    \"Warm\": load_data(\"poro_warmstart_l_sm\", n_newest=NUM_SIMS),\n",
    "}\n",
    "\n",
    "times_dict = dict()\n",
    "for name, values in data.items():\n",
    "    times_dict[name] = []\n",
    "    for perf in values:\n",
    "        res = np.sum(\n",
    "            sum_per_time_step(\n",
    "                make_solve_linear_system_time(perf, converged=CONVERGED),\n",
    "                perf,\n",
    "                converged=CONVERGED,\n",
    "            )\n",
    "        )\n",
    "        times_dict[name].append(res)\n",
    "\n",
    "\n",
    "times = pd.DataFrame.from_dict(times_dict).T\n",
    "new_data = {\n",
    "    'Worst': times.max(axis=1),\n",
    "    'Mean': times.mean(axis=1),\n",
    "    'Best': times.min(axis=1),\n",
    "}\n",
    "df_mandel_l = pd.DataFrame.from_dict(new_data)\n",
    "df_mandel_l"
   ]
  },
  {
   "cell_type": "code",
   "execution_count": 4,
   "metadata": {},
   "outputs": [
    {
     "name": "stdout",
     "output_type": "stream",
     "text": [
      "Loading data:\n",
      "/home/firedrake/solver_selector/examples/2/performance/thermal_coldstart_m_22.npy\n",
      "/home/firedrake/solver_selector/examples/2/performance/thermal_coldstart_m_23.npy\n",
      "/home/firedrake/solver_selector/examples/2/performance/thermal_coldstart_m_24.npy\n",
      "Loading data:\n",
      "/home/firedrake/solver_selector/examples/2/performance/thermal_warmstart_m_s_16.npy\n",
      "/home/firedrake/solver_selector/examples/2/performance/thermal_warmstart_m_s_17.npy\n",
      "/home/firedrake/solver_selector/examples/2/performance/thermal_warmstart_m_s_18.npy\n"
     ]
    },
    {
     "data": {
      "text/html": [
       "<div>\n",
       "<style scoped>\n",
       "    .dataframe tbody tr th:only-of-type {\n",
       "        vertical-align: middle;\n",
       "    }\n",
       "\n",
       "    .dataframe tbody tr th {\n",
       "        vertical-align: top;\n",
       "    }\n",
       "\n",
       "    .dataframe thead th {\n",
       "        text-align: right;\n",
       "    }\n",
       "</style>\n",
       "<table border=\"1\" class=\"dataframe\">\n",
       "  <thead>\n",
       "    <tr style=\"text-align: right;\">\n",
       "      <th></th>\n",
       "      <th>Worst</th>\n",
       "      <th>Mean</th>\n",
       "      <th>Best</th>\n",
       "    </tr>\n",
       "  </thead>\n",
       "  <tbody>\n",
       "    <tr>\n",
       "      <th>Cold</th>\n",
       "      <td>98.090310</td>\n",
       "      <td>95.145582</td>\n",
       "      <td>91.528604</td>\n",
       "    </tr>\n",
       "    <tr>\n",
       "      <th>Warm</th>\n",
       "      <td>102.513279</td>\n",
       "      <td>99.545483</td>\n",
       "      <td>97.941446</td>\n",
       "    </tr>\n",
       "  </tbody>\n",
       "</table>\n",
       "</div>"
      ],
      "text/plain": [
       "           Worst       Mean       Best\n",
       "Cold   98.090310  95.145582  91.528604\n",
       "Warm  102.513279  99.545483  97.941446"
      ]
     },
     "execution_count": 4,
     "metadata": {},
     "output_type": "execute_result"
    }
   ],
   "source": [
    "data = {\n",
    "    \"Cold\": load_data(\"thermal_coldstart_m\", n_newest=NUM_SIMS),\n",
    "    \"Warm\": load_data(\"thermal_warmstart_m_s\", n_newest=NUM_SIMS),\n",
    "}\n",
    "\n",
    "times_dict = dict()\n",
    "for name, values in data.items():\n",
    "    times_dict[name] = []\n",
    "    for perf in values:\n",
    "        res = np.sum(\n",
    "            sum_per_time_step(\n",
    "                make_solve_linear_system_time(perf, converged=CONVERGED),\n",
    "                perf,\n",
    "                converged=CONVERGED,\n",
    "            )\n",
    "        )\n",
    "        times_dict[name].append(res)\n",
    "\n",
    "\n",
    "times = pd.DataFrame.from_dict(times_dict).T\n",
    "new_data = {\n",
    "    'Worst': times.max(axis=1),\n",
    "    'Mean': times.mean(axis=1),\n",
    "    'Best': times.min(axis=1),\n",
    "}\n",
    "df_thermal_m = pd.DataFrame.from_dict(new_data)\n",
    "df_thermal_m"
   ]
  },
  {
   "cell_type": "code",
   "execution_count": 5,
   "metadata": {},
   "outputs": [
    {
     "name": "stdout",
     "output_type": "stream",
     "text": [
      "Loading data:\n",
      "/home/firedrake/solver_selector/examples/2/performance/thermal_coldstart_l_12.npy\n",
      "/home/firedrake/solver_selector/examples/2/performance/thermal_coldstart_l_13.npy\n",
      "/home/firedrake/solver_selector/examples/2/performance/thermal_coldstart_l_14.npy\n",
      "Loading data:\n",
      "/home/firedrake/solver_selector/examples/2/performance/thermal_warmstart_l_sm_8.npy\n",
      "/home/firedrake/solver_selector/examples/2/performance/thermal_warmstart_l_sm_9.npy\n",
      "/home/firedrake/solver_selector/examples/2/performance/thermal_warmstart_l_sm_10.npy\n"
     ]
    },
    {
     "data": {
      "text/html": [
       "<div>\n",
       "<style scoped>\n",
       "    .dataframe tbody tr th:only-of-type {\n",
       "        vertical-align: middle;\n",
       "    }\n",
       "\n",
       "    .dataframe tbody tr th {\n",
       "        vertical-align: top;\n",
       "    }\n",
       "\n",
       "    .dataframe thead th {\n",
       "        text-align: right;\n",
       "    }\n",
       "</style>\n",
       "<table border=\"1\" class=\"dataframe\">\n",
       "  <thead>\n",
       "    <tr style=\"text-align: right;\">\n",
       "      <th></th>\n",
       "      <th>Worst</th>\n",
       "      <th>Mean</th>\n",
       "      <th>Best</th>\n",
       "    </tr>\n",
       "  </thead>\n",
       "  <tbody>\n",
       "    <tr>\n",
       "      <th>Cold</th>\n",
       "      <td>764.738388</td>\n",
       "      <td>744.825194</td>\n",
       "      <td>720.549953</td>\n",
       "    </tr>\n",
       "    <tr>\n",
       "      <th>Warm</th>\n",
       "      <td>732.062772</td>\n",
       "      <td>718.468190</td>\n",
       "      <td>693.965152</td>\n",
       "    </tr>\n",
       "  </tbody>\n",
       "</table>\n",
       "</div>"
      ],
      "text/plain": [
       "           Worst        Mean        Best\n",
       "Cold  764.738388  744.825194  720.549953\n",
       "Warm  732.062772  718.468190  693.965152"
      ]
     },
     "execution_count": 5,
     "metadata": {},
     "output_type": "execute_result"
    }
   ],
   "source": [
    "data = {\n",
    "    \"Cold\": load_data(\"thermal_coldstart_l\", n_newest=NUM_SIMS),\n",
    "    \"Warm\": load_data(\"thermal_warmstart_l_sm\", n_newest=NUM_SIMS),\n",
    "}\n",
    "\n",
    "times_dict = dict()\n",
    "for name, values in data.items():\n",
    "    times_dict[name] = []\n",
    "    for perf in values:\n",
    "        res = np.sum(\n",
    "            sum_per_time_step(\n",
    "                make_solve_linear_system_time(perf, converged=CONVERGED),\n",
    "                perf,\n",
    "                converged=CONVERGED,\n",
    "            )\n",
    "        )\n",
    "        times_dict[name].append(res)\n",
    "\n",
    "\n",
    "times = pd.DataFrame.from_dict(times_dict).T\n",
    "new_data = {\n",
    "    'Worst': times.max(axis=1),\n",
    "    'Mean': times.mean(axis=1),\n",
    "    'Best': times.min(axis=1),\n",
    "}\n",
    "df_thermal_l = pd.DataFrame.from_dict(new_data)\n",
    "df_thermal_l"
   ]
  },
  {
   "cell_type": "code",
   "execution_count": 6,
   "metadata": {},
   "outputs": [],
   "source": [
    "df_m = pd.concat((df_mandel_m, df_thermal_m), join='inner', axis=1, keys=(\"Mandel problem\", \"Thermal problem\"))\n",
    "# df_m = df_m.style.highlight_min(axis=0, props=\"textbf:--rwrap;\").format(precision=2)\n",
    "# df_m"
   ]
  },
  {
   "cell_type": "code",
   "execution_count": 7,
   "metadata": {},
   "outputs": [
    {
     "name": "stdout",
     "output_type": "stream",
     "text": [
      "\\begin{tabular}{lrrrrrr}\n",
      "\\toprule\n",
      " & \\multicolumn{3}{r}{Mandel problem} & \\multicolumn{3}{r}{Thermal problem} \\\\\n",
      " & Worst & Mean & Best & Worst & Mean & Best \\\\\n",
      "\\midrule\n",
      "Cold & 63.859987 & 63.263342 & 62.643816 & 98.090310 & 95.145582 & 91.528604 \\\\\n",
      "Warm & 65.363031 & 64.582697 & 63.372173 & 102.513279 & 99.545483 & 97.941446 \\\\\n",
      "\\bottomrule\n",
      "\\end{tabular}\n",
      "\n"
     ]
    }
   ],
   "source": [
    "print(df_m.to_latex())"
   ]
  },
  {
   "cell_type": "code",
   "execution_count": 8,
   "metadata": {},
   "outputs": [],
   "source": [
    "df_l = pd.concat((df_mandel_l, df_thermal_l), join='inner', axis=1, keys=(\"Mandel problem\", \"Thermal problem\"))\n",
    "# df_l = df_l.style.highlight_min(axis=0, props=\"textbf:--rwrap;\").format(precision=2)\n",
    "# df_l"
   ]
  },
  {
   "cell_type": "code",
   "execution_count": 9,
   "metadata": {},
   "outputs": [
    {
     "name": "stdout",
     "output_type": "stream",
     "text": [
      "\\begin{tabular}{lrrrrrr}\n",
      "\\toprule\n",
      " & \\multicolumn{3}{r}{Mandel problem} & \\multicolumn{3}{r}{Thermal problem} \\\\\n",
      " & Worst & Mean & Best & Worst & Mean & Best \\\\\n",
      "\\midrule\n",
      "Cold & 209.897013 & 201.792319 & 196.995260 & 764.738388 & 744.825194 & 720.549953 \\\\\n",
      "Warm & 199.957052 & 197.875116 & 196.701282 & 732.062772 & 718.468190 & 693.965152 \\\\\n",
      "\\bottomrule\n",
      "\\end{tabular}\n",
      "\n"
     ]
    }
   ],
   "source": [
    "print(df_l.to_latex())"
   ]
  },
  {
   "cell_type": "code",
   "execution_count": 12,
   "metadata": {},
   "outputs": [
    {
     "data": {
      "text/html": [
       "<style type=\"text/css\">\n",
       "</style>\n",
       "<table id=\"T_1a829\">\n",
       "  <thead>\n",
       "    <tr>\n",
       "      <th class=\"blank\" >&nbsp;</th>\n",
       "      <th class=\"blank level0\" >&nbsp;</th>\n",
       "      <th id=\"T_1a829_level0_col0\" class=\"col_heading level0 col0\" colspan=\"3\">Mandel problem</th>\n",
       "      <th id=\"T_1a829_level0_col3\" class=\"col_heading level0 col3\" colspan=\"3\">Thermal problem</th>\n",
       "    </tr>\n",
       "    <tr>\n",
       "      <th class=\"blank\" >&nbsp;</th>\n",
       "      <th class=\"blank level1\" >&nbsp;</th>\n",
       "      <th id=\"T_1a829_level1_col0\" class=\"col_heading level1 col0\" >Worst</th>\n",
       "      <th id=\"T_1a829_level1_col1\" class=\"col_heading level1 col1\" >Mean</th>\n",
       "      <th id=\"T_1a829_level1_col2\" class=\"col_heading level1 col2\" >Best</th>\n",
       "      <th id=\"T_1a829_level1_col3\" class=\"col_heading level1 col3\" >Worst</th>\n",
       "      <th id=\"T_1a829_level1_col4\" class=\"col_heading level1 col4\" >Mean</th>\n",
       "      <th id=\"T_1a829_level1_col5\" class=\"col_heading level1 col5\" >Best</th>\n",
       "    </tr>\n",
       "  </thead>\n",
       "  <tbody>\n",
       "    <tr>\n",
       "      <th id=\"T_1a829_level0_row0\" class=\"row_heading level0 row0\" rowspan=\"2\">M</th>\n",
       "      <th id=\"T_1a829_level1_row0\" class=\"row_heading level1 row0\" >Cold</th>\n",
       "      <td id=\"T_1a829_row0_col0\" class=\"data row0 col0\" >63.86</td>\n",
       "      <td id=\"T_1a829_row0_col1\" class=\"data row0 col1\" >63.26</td>\n",
       "      <td id=\"T_1a829_row0_col2\" class=\"data row0 col2\" >62.64</td>\n",
       "      <td id=\"T_1a829_row0_col3\" class=\"data row0 col3\" >98.09</td>\n",
       "      <td id=\"T_1a829_row0_col4\" class=\"data row0 col4\" >95.15</td>\n",
       "      <td id=\"T_1a829_row0_col5\" class=\"data row0 col5\" >91.53</td>\n",
       "    </tr>\n",
       "    <tr>\n",
       "      <th id=\"T_1a829_level1_row1\" class=\"row_heading level1 row1\" >Warm</th>\n",
       "      <td id=\"T_1a829_row1_col0\" class=\"data row1 col0\" >65.36</td>\n",
       "      <td id=\"T_1a829_row1_col1\" class=\"data row1 col1\" >64.58</td>\n",
       "      <td id=\"T_1a829_row1_col2\" class=\"data row1 col2\" >63.37</td>\n",
       "      <td id=\"T_1a829_row1_col3\" class=\"data row1 col3\" >102.51</td>\n",
       "      <td id=\"T_1a829_row1_col4\" class=\"data row1 col4\" >99.55</td>\n",
       "      <td id=\"T_1a829_row1_col5\" class=\"data row1 col5\" >97.94</td>\n",
       "    </tr>\n",
       "    <tr>\n",
       "      <th id=\"T_1a829_level0_row2\" class=\"row_heading level0 row2\" rowspan=\"2\">L</th>\n",
       "      <th id=\"T_1a829_level1_row2\" class=\"row_heading level1 row2\" >Cold</th>\n",
       "      <td id=\"T_1a829_row2_col0\" class=\"data row2 col0\" >209.90</td>\n",
       "      <td id=\"T_1a829_row2_col1\" class=\"data row2 col1\" >201.79</td>\n",
       "      <td id=\"T_1a829_row2_col2\" class=\"data row2 col2\" >197.00</td>\n",
       "      <td id=\"T_1a829_row2_col3\" class=\"data row2 col3\" >764.74</td>\n",
       "      <td id=\"T_1a829_row2_col4\" class=\"data row2 col4\" >744.83</td>\n",
       "      <td id=\"T_1a829_row2_col5\" class=\"data row2 col5\" >720.55</td>\n",
       "    </tr>\n",
       "    <tr>\n",
       "      <th id=\"T_1a829_level1_row3\" class=\"row_heading level1 row3\" >Warm</th>\n",
       "      <td id=\"T_1a829_row3_col0\" class=\"data row3 col0\" >199.96</td>\n",
       "      <td id=\"T_1a829_row3_col1\" class=\"data row3 col1\" >197.88</td>\n",
       "      <td id=\"T_1a829_row3_col2\" class=\"data row3 col2\" >196.70</td>\n",
       "      <td id=\"T_1a829_row3_col3\" class=\"data row3 col3\" >732.06</td>\n",
       "      <td id=\"T_1a829_row3_col4\" class=\"data row3 col4\" >718.47</td>\n",
       "      <td id=\"T_1a829_row3_col5\" class=\"data row3 col5\" >693.97</td>\n",
       "    </tr>\n",
       "  </tbody>\n",
       "</table>\n"
      ],
      "text/plain": [
       "<pandas.io.formats.style.Styler at 0x7f3f8155c280>"
      ]
     },
     "execution_count": 12,
     "metadata": {},
     "output_type": "execute_result"
    }
   ],
   "source": [
    "df = pd.concat((df_m, df_l), keys=('M', \"L\"))\n",
    "df = df.style.format(precision=2)\n",
    "df"
   ]
  },
  {
   "cell_type": "code",
   "execution_count": 11,
   "metadata": {},
   "outputs": [
    {
     "name": "stdout",
     "output_type": "stream",
     "text": [
      "\\begin{tabular}{llrrrrrr}\n",
      " &  & \\multicolumn{3}{r}{Mandel problem} & \\multicolumn{3}{r}{Thermal problem} \\\\\n",
      " &  & Worst & Mean & Best & Worst & Mean & Best \\\\\n",
      "\\multirow[c]{2}{*}{M} & Cold & 63.86 & 63.26 & 62.64 & 98.09 & 95.15 & 91.53 \\\\\n",
      " & Warm & 65.36 & 64.58 & 63.37 & 102.51 & 99.55 & 97.94 \\\\\n",
      "\\multirow[c]{2}{*}{L} & Cold & 209.90 & 201.79 & 197.00 & 764.74 & 744.83 & 720.55 \\\\\n",
      " & Warm & 199.96 & 197.88 & 196.70 & 732.06 & 718.47 & 693.97 \\\\\n",
      "\\end{tabular}\n",
      "\n"
     ]
    }
   ],
   "source": [
    "print(df.to_latex())"
   ]
  },
  {
   "cell_type": "markdown",
   "metadata": {},
   "source": [
    "    \\begin{tabular}{c | c | rrr | rrr}\n",
    "    \\toprule\n",
    "     \\multirow[c]{2}{*}{Size} & \\multirow[c]{2}{*}{Start} & \\multicolumn{3}{c}{Mandel problem} & \\multicolumn{3}{c}{Thermal problem} \\\\\n",
    "     &  & Worst & Mean & Best & Worst & Mean & Best \\\\\n",
    "     \\midrule\n",
    "\n",
    "     \n",
    "    \\multirow[c]{2}{*}{M} & Cold & 65.93 & 64.35 & 63.18 & 96.00 & 94.39 & 92.42 \\\\\n",
    "     & Warm & 63.48 & 63.13 & 62.77 & 92.34 & 88.56 & 84.17 \\\\\n",
    "     \\midrule\n",
    "    \\multirow[c]{2}{*}{L} & Cold & 201.91 & 199.33 & 197.26 & 2260.02 & 2223.27 & 2154.07 \\\\\n",
    "     & Warm & 201.05 & 199.67 & 197.78 & 2218.84 & 2177.89 & 2143.87 \\\\\n",
    "    \n",
    "    \\bottomrule\n",
    "    \\end{tabular}"
   ]
  }
 ],
 "metadata": {
  "kernelspec": {
   "display_name": "pp",
   "language": "python",
   "name": "python3"
  },
  "language_info": {
   "codemirror_mode": {
    "name": "ipython",
    "version": 3
   },
   "file_extension": ".py",
   "mimetype": "text/x-python",
   "name": "python",
   "nbconvert_exporter": "python",
   "pygments_lexer": "ipython3",
   "version": "3.10.12"
  },
  "orig_nbformat": 4
 },
 "nbformat": 4,
 "nbformat_minor": 2
}
