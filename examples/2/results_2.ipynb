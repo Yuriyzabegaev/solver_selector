{
 "cells": [
  {
   "cell_type": "code",
   "execution_count": 30,
   "metadata": {},
   "outputs": [],
   "source": [
    "import numpy as np\n",
    "from matplotlib import pyplot as plt\n",
    "import seaborn as sns\n",
    "from pathlib import Path\n",
    "from data_scripts import *\n",
    "import pandas as pd\n",
    "\n",
    "\n",
    "NUM_SIMS = 3\n",
    "CONVERGED = False\n",
    "USE_SIMULATED_TIME = False"
   ]
  },
  {
   "cell_type": "code",
   "execution_count": 31,
   "metadata": {},
   "outputs": [
    {
     "name": "stdout",
     "output_type": "stream",
     "text": [
      "Loading data:\n",
      "/home/firedrake/solver_selector/examples/2/performance/poro_coldstart_m_13.npy\n",
      "/home/firedrake/solver_selector/examples/2/performance/poro_coldstart_m_14.npy\n",
      "/home/firedrake/solver_selector/examples/2/performance/poro_coldstart_m_15.npy\n",
      "Loading data:\n",
      "/home/firedrake/solver_selector/examples/2/performance/poro_warmstart_m_s_13.npy\n",
      "/home/firedrake/solver_selector/examples/2/performance/poro_warmstart_m_s_14.npy\n",
      "/home/firedrake/solver_selector/examples/2/performance/poro_warmstart_m_s_15.npy\n"
     ]
    },
    {
     "data": {
      "text/html": [
       "<div>\n",
       "<style scoped>\n",
       "    .dataframe tbody tr th:only-of-type {\n",
       "        vertical-align: middle;\n",
       "    }\n",
       "\n",
       "    .dataframe tbody tr th {\n",
       "        vertical-align: top;\n",
       "    }\n",
       "\n",
       "    .dataframe thead th {\n",
       "        text-align: right;\n",
       "    }\n",
       "</style>\n",
       "<table border=\"1\" class=\"dataframe\">\n",
       "  <thead>\n",
       "    <tr style=\"text-align: right;\">\n",
       "      <th></th>\n",
       "      <th>Worst</th>\n",
       "      <th>Mean</th>\n",
       "      <th>Best</th>\n",
       "    </tr>\n",
       "  </thead>\n",
       "  <tbody>\n",
       "    <tr>\n",
       "      <th>Cold</th>\n",
       "      <td>65.929826</td>\n",
       "      <td>64.352032</td>\n",
       "      <td>63.181026</td>\n",
       "    </tr>\n",
       "    <tr>\n",
       "      <th>Warm</th>\n",
       "      <td>63.475811</td>\n",
       "      <td>63.133458</td>\n",
       "      <td>62.770948</td>\n",
       "    </tr>\n",
       "  </tbody>\n",
       "</table>\n",
       "</div>"
      ],
      "text/plain": [
       "          Worst       Mean       Best\n",
       "Cold  65.929826  64.352032  63.181026\n",
       "Warm  63.475811  63.133458  62.770948"
      ]
     },
     "execution_count": 31,
     "metadata": {},
     "output_type": "execute_result"
    }
   ],
   "source": [
    "data = {\n",
    "    \"Cold\": load_data(\"poro_coldstart_m\", n_newest=NUM_SIMS),\n",
    "    \"Warm\": load_data(\"poro_warmstart_m_s\", n_newest=NUM_SIMS),\n",
    "}\n",
    "\n",
    "times_dict = dict()\n",
    "for name, values in data.items():\n",
    "    times_dict[name] = []\n",
    "    for perf in values:\n",
    "        res = np.sum(\n",
    "            sum_per_time_step(\n",
    "                make_solve_linear_system_time(perf, converged=CONVERGED),\n",
    "                perf,\n",
    "                converged=CONVERGED,\n",
    "            )\n",
    "        )\n",
    "        times_dict[name].append(res)\n",
    "\n",
    "\n",
    "times = pd.DataFrame.from_dict(times_dict).T\n",
    "new_data = {\n",
    "    'Worst': times.max(axis=1),\n",
    "    'Mean': times.mean(axis=1),\n",
    "    'Best': times.min(axis=1),\n",
    "}\n",
    "df_mandel_m = pd.DataFrame.from_dict(new_data)\n",
    "df_mandel_m"
   ]
  },
  {
   "cell_type": "code",
   "execution_count": 32,
   "metadata": {},
   "outputs": [
    {
     "name": "stdout",
     "output_type": "stream",
     "text": [
      "Loading data:\n",
      "/home/firedrake/solver_selector/examples/2/performance/poro_coldstart_l_13.npy\n",
      "/home/firedrake/solver_selector/examples/2/performance/poro_coldstart_l_14.npy\n",
      "/home/firedrake/solver_selector/examples/2/performance/poro_coldstart_l_15.npy\n",
      "Loading data:\n",
      "/home/firedrake/solver_selector/examples/2/performance/poro_warmstart_l_sm_13.npy\n",
      "/home/firedrake/solver_selector/examples/2/performance/poro_warmstart_l_sm_14.npy\n",
      "/home/firedrake/solver_selector/examples/2/performance/poro_warmstart_l_sm_15.npy\n"
     ]
    },
    {
     "data": {
      "text/html": [
       "<div>\n",
       "<style scoped>\n",
       "    .dataframe tbody tr th:only-of-type {\n",
       "        vertical-align: middle;\n",
       "    }\n",
       "\n",
       "    .dataframe tbody tr th {\n",
       "        vertical-align: top;\n",
       "    }\n",
       "\n",
       "    .dataframe thead th {\n",
       "        text-align: right;\n",
       "    }\n",
       "</style>\n",
       "<table border=\"1\" class=\"dataframe\">\n",
       "  <thead>\n",
       "    <tr style=\"text-align: right;\">\n",
       "      <th></th>\n",
       "      <th>Worst</th>\n",
       "      <th>Mean</th>\n",
       "      <th>Best</th>\n",
       "    </tr>\n",
       "  </thead>\n",
       "  <tbody>\n",
       "    <tr>\n",
       "      <th>Cold</th>\n",
       "      <td>201.913581</td>\n",
       "      <td>199.329702</td>\n",
       "      <td>197.256167</td>\n",
       "    </tr>\n",
       "    <tr>\n",
       "      <th>Warm</th>\n",
       "      <td>201.054304</td>\n",
       "      <td>199.668359</td>\n",
       "      <td>197.779866</td>\n",
       "    </tr>\n",
       "  </tbody>\n",
       "</table>\n",
       "</div>"
      ],
      "text/plain": [
       "           Worst        Mean        Best\n",
       "Cold  201.913581  199.329702  197.256167\n",
       "Warm  201.054304  199.668359  197.779866"
      ]
     },
     "execution_count": 32,
     "metadata": {},
     "output_type": "execute_result"
    }
   ],
   "source": [
    "data = {\n",
    "    \"Cold\": load_data(\"poro_coldstart_l\", n_newest=NUM_SIMS),\n",
    "    # \"Warmstart L(S)\": load_data(\"poro_warmstart_l_s\", n_newest=NUM_SIMS),\n",
    "    # \"Warmstart L(M)\": load_data(\"poro_warmstart_l_m\", n_newest=NUM_SIMS),\n",
    "    \"Warm\": load_data(\"poro_warmstart_l_sm\", n_newest=NUM_SIMS),\n",
    "}\n",
    "\n",
    "times_dict = dict()\n",
    "for name, values in data.items():\n",
    "    times_dict[name] = []\n",
    "    for perf in values:\n",
    "        res = np.sum(\n",
    "            sum_per_time_step(\n",
    "                make_solve_linear_system_time(perf, converged=CONVERGED),\n",
    "                perf,\n",
    "                converged=CONVERGED,\n",
    "            )\n",
    "        )\n",
    "        times_dict[name].append(res)\n",
    "\n",
    "\n",
    "times = pd.DataFrame.from_dict(times_dict).T\n",
    "new_data = {\n",
    "    'Worst': times.max(axis=1),\n",
    "    'Mean': times.mean(axis=1),\n",
    "    'Best': times.min(axis=1),\n",
    "}\n",
    "df_mandel_l = pd.DataFrame.from_dict(new_data)\n",
    "df_mandel_l"
   ]
  },
  {
   "cell_type": "code",
   "execution_count": 33,
   "metadata": {},
   "outputs": [
    {
     "name": "stdout",
     "output_type": "stream",
     "text": [
      "Loading data:\n",
      "/home/firedrake/solver_selector/examples/2/performance/thermal_coldstart_m_19.npy\n",
      "/home/firedrake/solver_selector/examples/2/performance/thermal_coldstart_m_20.npy\n",
      "/home/firedrake/solver_selector/examples/2/performance/thermal_coldstart_m_21.npy\n",
      "Loading data:\n",
      "/home/firedrake/solver_selector/examples/2/performance/thermal_warmstart_m_s_13.npy\n",
      "/home/firedrake/solver_selector/examples/2/performance/thermal_warmstart_m_s_14.npy\n",
      "/home/firedrake/solver_selector/examples/2/performance/thermal_warmstart_m_s_15.npy\n"
     ]
    },
    {
     "data": {
      "text/html": [
       "<div>\n",
       "<style scoped>\n",
       "    .dataframe tbody tr th:only-of-type {\n",
       "        vertical-align: middle;\n",
       "    }\n",
       "\n",
       "    .dataframe tbody tr th {\n",
       "        vertical-align: top;\n",
       "    }\n",
       "\n",
       "    .dataframe thead th {\n",
       "        text-align: right;\n",
       "    }\n",
       "</style>\n",
       "<table border=\"1\" class=\"dataframe\">\n",
       "  <thead>\n",
       "    <tr style=\"text-align: right;\">\n",
       "      <th></th>\n",
       "      <th>Worst</th>\n",
       "      <th>Mean</th>\n",
       "      <th>Best</th>\n",
       "    </tr>\n",
       "  </thead>\n",
       "  <tbody>\n",
       "    <tr>\n",
       "      <th>Cold</th>\n",
       "      <td>95.996234</td>\n",
       "      <td>94.389007</td>\n",
       "      <td>92.424675</td>\n",
       "    </tr>\n",
       "    <tr>\n",
       "      <th>Warm</th>\n",
       "      <td>92.337601</td>\n",
       "      <td>88.555794</td>\n",
       "      <td>84.168483</td>\n",
       "    </tr>\n",
       "  </tbody>\n",
       "</table>\n",
       "</div>"
      ],
      "text/plain": [
       "          Worst       Mean       Best\n",
       "Cold  95.996234  94.389007  92.424675\n",
       "Warm  92.337601  88.555794  84.168483"
      ]
     },
     "execution_count": 33,
     "metadata": {},
     "output_type": "execute_result"
    }
   ],
   "source": [
    "data = {\n",
    "    \"Cold\": load_data(\"thermal_coldstart_m\", n_newest=NUM_SIMS),\n",
    "    \"Warm\": load_data(\"thermal_warmstart_m_s\", n_newest=NUM_SIMS),\n",
    "}\n",
    "\n",
    "times_dict = dict()\n",
    "for name, values in data.items():\n",
    "    times_dict[name] = []\n",
    "    for perf in values:\n",
    "        res = np.sum(\n",
    "            sum_per_time_step(\n",
    "                make_solve_linear_system_time(perf, converged=CONVERGED),\n",
    "                perf,\n",
    "                converged=CONVERGED,\n",
    "            )\n",
    "        )\n",
    "        times_dict[name].append(res)\n",
    "\n",
    "\n",
    "times = pd.DataFrame.from_dict(times_dict).T\n",
    "new_data = {\n",
    "    'Worst': times.max(axis=1),\n",
    "    'Mean': times.mean(axis=1),\n",
    "    'Best': times.min(axis=1),\n",
    "}\n",
    "df_thermal_m = pd.DataFrame.from_dict(new_data)\n",
    "df_thermal_m"
   ]
  },
  {
   "cell_type": "code",
   "execution_count": 34,
   "metadata": {},
   "outputs": [
    {
     "name": "stdout",
     "output_type": "stream",
     "text": [
      "Loading data:\n",
      "/home/firedrake/solver_selector/examples/2/performance/thermal_coldstart_l_9.npy\n",
      "/home/firedrake/solver_selector/examples/2/performance/thermal_coldstart_l_10.npy\n",
      "/home/firedrake/solver_selector/examples/2/performance/thermal_coldstart_l_11.npy\n",
      "Loading data:\n",
      "/home/firedrake/solver_selector/examples/2/performance/thermal_warmstart_l_sm_3.npy\n",
      "/home/firedrake/solver_selector/examples/2/performance/thermal_warmstart_l_sm_4.npy\n",
      "/home/firedrake/solver_selector/examples/2/performance/thermal_warmstart_l_sm_5.npy\n"
     ]
    },
    {
     "data": {
      "text/html": [
       "<div>\n",
       "<style scoped>\n",
       "    .dataframe tbody tr th:only-of-type {\n",
       "        vertical-align: middle;\n",
       "    }\n",
       "\n",
       "    .dataframe tbody tr th {\n",
       "        vertical-align: top;\n",
       "    }\n",
       "\n",
       "    .dataframe thead th {\n",
       "        text-align: right;\n",
       "    }\n",
       "</style>\n",
       "<table border=\"1\" class=\"dataframe\">\n",
       "  <thead>\n",
       "    <tr style=\"text-align: right;\">\n",
       "      <th></th>\n",
       "      <th>Worst</th>\n",
       "      <th>Mean</th>\n",
       "      <th>Best</th>\n",
       "    </tr>\n",
       "  </thead>\n",
       "  <tbody>\n",
       "    <tr>\n",
       "      <th>Cold</th>\n",
       "      <td>2260.016742</td>\n",
       "      <td>2223.267380</td>\n",
       "      <td>2154.071525</td>\n",
       "    </tr>\n",
       "    <tr>\n",
       "      <th>Warm</th>\n",
       "      <td>2218.840891</td>\n",
       "      <td>2177.888141</td>\n",
       "      <td>2143.868494</td>\n",
       "    </tr>\n",
       "  </tbody>\n",
       "</table>\n",
       "</div>"
      ],
      "text/plain": [
       "            Worst         Mean         Best\n",
       "Cold  2260.016742  2223.267380  2154.071525\n",
       "Warm  2218.840891  2177.888141  2143.868494"
      ]
     },
     "execution_count": 34,
     "metadata": {},
     "output_type": "execute_result"
    }
   ],
   "source": [
    "data = {\n",
    "    \"Cold\": load_data(\"thermal_coldstart_l\", n_newest=NUM_SIMS),\n",
    "    \"Warm\": load_data(\"thermal_warmstart_l_sm\", n_newest=NUM_SIMS),\n",
    "}\n",
    "\n",
    "times_dict = dict()\n",
    "for name, values in data.items():\n",
    "    times_dict[name] = []\n",
    "    for perf in values:\n",
    "        res = np.sum(\n",
    "            sum_per_time_step(\n",
    "                make_solve_linear_system_time(perf, converged=CONVERGED),\n",
    "                perf,\n",
    "                converged=CONVERGED,\n",
    "            )\n",
    "        )\n",
    "        times_dict[name].append(res)\n",
    "\n",
    "\n",
    "times = pd.DataFrame.from_dict(times_dict).T\n",
    "new_data = {\n",
    "    'Worst': times.max(axis=1),\n",
    "    'Mean': times.mean(axis=1),\n",
    "    'Best': times.min(axis=1),\n",
    "}\n",
    "df_thermal_l = pd.DataFrame.from_dict(new_data)\n",
    "df_thermal_l"
   ]
  },
  {
   "cell_type": "code",
   "execution_count": 35,
   "metadata": {},
   "outputs": [],
   "source": [
    "df_m = pd.concat((df_mandel_m, df_thermal_m), join='inner', axis=1, keys=(\"Mandel problem\", \"Thermal problem\"))\n",
    "# df_m = df_m.style.highlight_min(axis=0, props=\"textbf:--rwrap;\").format(precision=2)\n",
    "# df_m"
   ]
  },
  {
   "cell_type": "code",
   "execution_count": 36,
   "metadata": {},
   "outputs": [
    {
     "name": "stdout",
     "output_type": "stream",
     "text": [
      "\\begin{tabular}{lrrrrrr}\n",
      "\\toprule\n",
      " & \\multicolumn{3}{r}{Mandel problem} & \\multicolumn{3}{r}{Thermal problem} \\\\\n",
      " & Worst & Mean & Best & Worst & Mean & Best \\\\\n",
      "\\midrule\n",
      "Cold & 65.929826 & 64.352032 & 63.181026 & 95.996234 & 94.389007 & 92.424675 \\\\\n",
      "Warm & 63.475811 & 63.133458 & 62.770948 & 92.337601 & 88.555794 & 84.168483 \\\\\n",
      "\\bottomrule\n",
      "\\end{tabular}\n",
      "\n"
     ]
    }
   ],
   "source": [
    "print(df_m.to_latex())"
   ]
  },
  {
   "cell_type": "code",
   "execution_count": 37,
   "metadata": {},
   "outputs": [],
   "source": [
    "df_l = pd.concat((df_mandel_l, df_thermal_l), join='inner', axis=1, keys=(\"Mandel problem\", \"Thermal problem\"))\n",
    "# df_l = df_l.style.highlight_min(axis=0, props=\"textbf:--rwrap;\").format(precision=2)\n",
    "# df_l"
   ]
  },
  {
   "cell_type": "code",
   "execution_count": 38,
   "metadata": {},
   "outputs": [
    {
     "name": "stdout",
     "output_type": "stream",
     "text": [
      "\\begin{tabular}{lrrrrrr}\n",
      "\\toprule\n",
      " & \\multicolumn{3}{r}{Mandel problem} & \\multicolumn{3}{r}{Thermal problem} \\\\\n",
      " & Worst & Mean & Best & Worst & Mean & Best \\\\\n",
      "\\midrule\n",
      "Cold & 201.913581 & 199.329702 & 197.256167 & 2260.016742 & 2223.267380 & 2154.071525 \\\\\n",
      "Warm & 201.054304 & 199.668359 & 197.779866 & 2218.840891 & 2177.888141 & 2143.868494 \\\\\n",
      "\\bottomrule\n",
      "\\end{tabular}\n",
      "\n"
     ]
    }
   ],
   "source": [
    "print(df_l.to_latex())"
   ]
  },
  {
   "cell_type": "code",
   "execution_count": 39,
   "metadata": {},
   "outputs": [
    {
     "data": {
      "text/html": [
       "<style type=\"text/css\">\n",
       "</style>\n",
       "<table id=\"T_595f6\">\n",
       "  <thead>\n",
       "    <tr>\n",
       "      <th class=\"blank\" >&nbsp;</th>\n",
       "      <th class=\"blank level0\" >&nbsp;</th>\n",
       "      <th id=\"T_595f6_level0_col0\" class=\"col_heading level0 col0\" colspan=\"3\">Mandel problem</th>\n",
       "      <th id=\"T_595f6_level0_col3\" class=\"col_heading level0 col3\" colspan=\"3\">Thermal problem</th>\n",
       "    </tr>\n",
       "    <tr>\n",
       "      <th class=\"blank\" >&nbsp;</th>\n",
       "      <th class=\"blank level1\" >&nbsp;</th>\n",
       "      <th id=\"T_595f6_level1_col0\" class=\"col_heading level1 col0\" >Worst</th>\n",
       "      <th id=\"T_595f6_level1_col1\" class=\"col_heading level1 col1\" >Mean</th>\n",
       "      <th id=\"T_595f6_level1_col2\" class=\"col_heading level1 col2\" >Best</th>\n",
       "      <th id=\"T_595f6_level1_col3\" class=\"col_heading level1 col3\" >Worst</th>\n",
       "      <th id=\"T_595f6_level1_col4\" class=\"col_heading level1 col4\" >Mean</th>\n",
       "      <th id=\"T_595f6_level1_col5\" class=\"col_heading level1 col5\" >Best</th>\n",
       "    </tr>\n",
       "  </thead>\n",
       "  <tbody>\n",
       "    <tr>\n",
       "      <th id=\"T_595f6_level0_row0\" class=\"row_heading level0 row0\" rowspan=\"2\">M</th>\n",
       "      <th id=\"T_595f6_level1_row0\" class=\"row_heading level1 row0\" >Cold</th>\n",
       "      <td id=\"T_595f6_row0_col0\" class=\"data row0 col0\" >65.93</td>\n",
       "      <td id=\"T_595f6_row0_col1\" class=\"data row0 col1\" >64.35</td>\n",
       "      <td id=\"T_595f6_row0_col2\" class=\"data row0 col2\" >63.18</td>\n",
       "      <td id=\"T_595f6_row0_col3\" class=\"data row0 col3\" >96.00</td>\n",
       "      <td id=\"T_595f6_row0_col4\" class=\"data row0 col4\" >94.39</td>\n",
       "      <td id=\"T_595f6_row0_col5\" class=\"data row0 col5\" >92.42</td>\n",
       "    </tr>\n",
       "    <tr>\n",
       "      <th id=\"T_595f6_level1_row1\" class=\"row_heading level1 row1\" >Warm</th>\n",
       "      <td id=\"T_595f6_row1_col0\" class=\"data row1 col0\" >63.48</td>\n",
       "      <td id=\"T_595f6_row1_col1\" class=\"data row1 col1\" >63.13</td>\n",
       "      <td id=\"T_595f6_row1_col2\" class=\"data row1 col2\" >62.77</td>\n",
       "      <td id=\"T_595f6_row1_col3\" class=\"data row1 col3\" >92.34</td>\n",
       "      <td id=\"T_595f6_row1_col4\" class=\"data row1 col4\" >88.56</td>\n",
       "      <td id=\"T_595f6_row1_col5\" class=\"data row1 col5\" >84.17</td>\n",
       "    </tr>\n",
       "    <tr>\n",
       "      <th id=\"T_595f6_level0_row2\" class=\"row_heading level0 row2\" rowspan=\"2\">L</th>\n",
       "      <th id=\"T_595f6_level1_row2\" class=\"row_heading level1 row2\" >Cold</th>\n",
       "      <td id=\"T_595f6_row2_col0\" class=\"data row2 col0\" >201.91</td>\n",
       "      <td id=\"T_595f6_row2_col1\" class=\"data row2 col1\" >199.33</td>\n",
       "      <td id=\"T_595f6_row2_col2\" class=\"data row2 col2\" >197.26</td>\n",
       "      <td id=\"T_595f6_row2_col3\" class=\"data row2 col3\" >2260.02</td>\n",
       "      <td id=\"T_595f6_row2_col4\" class=\"data row2 col4\" >2223.27</td>\n",
       "      <td id=\"T_595f6_row2_col5\" class=\"data row2 col5\" >2154.07</td>\n",
       "    </tr>\n",
       "    <tr>\n",
       "      <th id=\"T_595f6_level1_row3\" class=\"row_heading level1 row3\" >Warm</th>\n",
       "      <td id=\"T_595f6_row3_col0\" class=\"data row3 col0\" >201.05</td>\n",
       "      <td id=\"T_595f6_row3_col1\" class=\"data row3 col1\" >199.67</td>\n",
       "      <td id=\"T_595f6_row3_col2\" class=\"data row3 col2\" >197.78</td>\n",
       "      <td id=\"T_595f6_row3_col3\" class=\"data row3 col3\" >2218.84</td>\n",
       "      <td id=\"T_595f6_row3_col4\" class=\"data row3 col4\" >2177.89</td>\n",
       "      <td id=\"T_595f6_row3_col5\" class=\"data row3 col5\" >2143.87</td>\n",
       "    </tr>\n",
       "  </tbody>\n",
       "</table>\n"
      ],
      "text/plain": [
       "<pandas.io.formats.style.Styler at 0x7fe7bbe760e0>"
      ]
     },
     "execution_count": 39,
     "metadata": {},
     "output_type": "execute_result"
    }
   ],
   "source": [
    "df = pd.concat((df_m, df_l), keys=('M', \"L\"))\n",
    "df = df.style.format(precision=2)\n",
    "df"
   ]
  },
  {
   "cell_type": "code",
   "execution_count": 40,
   "metadata": {},
   "outputs": [
    {
     "name": "stdout",
     "output_type": "stream",
     "text": [
      "\\begin{tabular}{llrrrrrr}\n",
      " &  & \\multicolumn{3}{r}{Mandel problem} & \\multicolumn{3}{r}{Thermal problem} \\\\\n",
      " &  & Worst & Mean & Best & Worst & Mean & Best \\\\\n",
      "\\multirow[c]{2}{*}{M} & Cold & 65.93 & 64.35 & 63.18 & 96.00 & 94.39 & 92.42 \\\\\n",
      " & Warm & 63.48 & 63.13 & 62.77 & 92.34 & 88.56 & 84.17 \\\\\n",
      "\\multirow[c]{2}{*}{L} & Cold & 201.91 & 199.33 & 197.26 & 2260.02 & 2223.27 & 2154.07 \\\\\n",
      " & Warm & 201.05 & 199.67 & 197.78 & 2218.84 & 2177.89 & 2143.87 \\\\\n",
      "\\end{tabular}\n",
      "\n"
     ]
    }
   ],
   "source": [
    "print(df.to_latex())"
   ]
  },
  {
   "cell_type": "markdown",
   "metadata": {},
   "source": [
    "    \\begin{tabular}{c | c | rrr | rrr}\n",
    "    \\toprule\n",
    "     \\multirow[c]{2}{*}{Size} & \\multirow[c]{2}{*}{Start} & \\multicolumn{3}{c}{Mandel problem} & \\multicolumn{3}{c}{Thermal problem} \\\\\n",
    "     &  & Worst & Mean & Best & Worst & Mean & Best \\\\\n",
    "     \\midrule\n",
    "\n",
    "     \n",
    "    \\multirow[c]{2}{*}{M} & Cold & 65.93 & 64.35 & 63.18 & 96.00 & 94.39 & 92.42 \\\\\n",
    "     & Warm & 63.48 & 63.13 & 62.77 & 92.34 & 88.56 & 84.17 \\\\\n",
    "     \\midrule\n",
    "    \\multirow[c]{2}{*}{L} & Cold & 201.91 & 199.33 & 197.26 & 2260.02 & 2223.27 & 2154.07 \\\\\n",
    "     & Warm & 201.05 & 199.67 & 197.78 & 2218.84 & 2177.89 & 2143.87 \\\\\n",
    "    \n",
    "    \\bottomrule\n",
    "    \\end{tabular}"
   ]
  }
 ],
 "metadata": {
  "kernelspec": {
   "display_name": "pp",
   "language": "python",
   "name": "python3"
  },
  "language_info": {
   "codemirror_mode": {
    "name": "ipython",
    "version": 3
   },
   "file_extension": ".py",
   "mimetype": "text/x-python",
   "name": "python",
   "nbconvert_exporter": "python",
   "pygments_lexer": "ipython3",
   "version": "3.10.12"
  },
  "orig_nbformat": 4
 },
 "nbformat": 4,
 "nbformat_minor": 2
}
