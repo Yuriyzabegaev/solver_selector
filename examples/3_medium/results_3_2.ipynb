{
 "cells": [
  {
   "cell_type": "code",
   "execution_count": 1,
   "metadata": {},
   "outputs": [],
   "source": [
    "import numpy as np\n",
    "from matplotlib import pyplot as plt\n",
    "import seaborn as sns\n",
    "from pathlib import Path\n",
    "from data_scripts import *\n",
    "import pandas as pd\n",
    "\n",
    "\n",
    "NUM_SIMS = 3\n",
    "CONVERGED = False\n",
    "USE_SIMULATED_TIME = False"
   ]
  },
  {
   "cell_type": "code",
   "execution_count": 2,
   "metadata": {},
   "outputs": [
    {
     "name": "stdout",
     "output_type": "stream",
     "text": [
      "Loading data:\n",
      "/home/firedrake/solver_selector/examples/3_medium/performance/poro_eps_default_5.npy\n",
      "/home/firedrake/solver_selector/examples/3_medium/performance/poro_eps_default_6.npy\n",
      "/home/firedrake/solver_selector/examples/3_medium/performance/poro_eps_default_7.npy\n"
     ]
    },
    {
     "name": "stderr",
     "output_type": "stream",
     "text": [
      "/home/firedrake/porepy/src/porepy/numerics/nonlinear/nonlinear_solvers.py:13: TqdmExperimentalWarning: Using `tqdm.autonotebook.tqdm` in notebook mode. Use `tqdm.tqdm` instead to force console mode (e.g. in jupyter console)\n",
      "  from tqdm.autonotebook import trange  # type: ignore\n"
     ]
    },
    {
     "name": "stdout",
     "output_type": "stream",
     "text": [
      "Loading data:\n",
      "/home/firedrake/solver_selector/examples/3_medium/performance/poro_eps0_5.npy\n",
      "/home/firedrake/solver_selector/examples/3_medium/performance/poro_eps0_6.npy\n",
      "/home/firedrake/solver_selector/examples/3_medium/performance/poro_eps0_7.npy\n",
      "Loading data:\n",
      "/home/firedrake/solver_selector/examples/3_medium/performance/poro_eps_big_5.npy\n",
      "/home/firedrake/solver_selector/examples/3_medium/performance/poro_eps_big_6.npy\n",
      "/home/firedrake/solver_selector/examples/3_medium/performance/poro_eps_big_7.npy\n"
     ]
    },
    {
     "data": {
      "text/html": [
       "<div>\n",
       "<style scoped>\n",
       "    .dataframe tbody tr th:only-of-type {\n",
       "        vertical-align: middle;\n",
       "    }\n",
       "\n",
       "    .dataframe tbody tr th {\n",
       "        vertical-align: top;\n",
       "    }\n",
       "\n",
       "    .dataframe thead th {\n",
       "        text-align: right;\n",
       "    }\n",
       "</style>\n",
       "<table border=\"1\" class=\"dataframe\">\n",
       "  <thead>\n",
       "    <tr style=\"text-align: right;\">\n",
       "      <th></th>\n",
       "      <th>Worst</th>\n",
       "      <th>Mean</th>\n",
       "      <th>Best</th>\n",
       "    </tr>\n",
       "  </thead>\n",
       "  <tbody>\n",
       "    <tr>\n",
       "      <th>Standard exploration</th>\n",
       "      <td>65.468736</td>\n",
       "      <td>64.657903</td>\n",
       "      <td>64.126576</td>\n",
       "    </tr>\n",
       "    <tr>\n",
       "      <th>No exploration</th>\n",
       "      <td>68.755126</td>\n",
       "      <td>66.177716</td>\n",
       "      <td>64.189734</td>\n",
       "    </tr>\n",
       "    <tr>\n",
       "      <th>More exploration</th>\n",
       "      <td>64.994032</td>\n",
       "      <td>64.804783</td>\n",
       "      <td>64.474209</td>\n",
       "    </tr>\n",
       "  </tbody>\n",
       "</table>\n",
       "</div>"
      ],
      "text/plain": [
       "                          Worst       Mean       Best\n",
       "Standard exploration  65.468736  64.657903  64.126576\n",
       "No exploration        68.755126  66.177716  64.189734\n",
       "More exploration      64.994032  64.804783  64.474209"
      ]
     },
     "execution_count": 2,
     "metadata": {},
     "output_type": "execute_result"
    }
   ],
   "source": [
    "data = {\n",
    "    \"Standard exploration\": load_data(\"poro_eps_default\", n_newest=NUM_SIMS),\n",
    "    \"No exploration\": load_data(\"poro_eps0\", n_newest=NUM_SIMS),\n",
    "    \"More exploration\": load_data(\"poro_eps_big\", n_newest=NUM_SIMS),\n",
    "    # \"Random\": load_data()\n",
    "    # \"GP\": load_data(\"poro_gp\", n_newest=NUM_SIMS),\n",
    "}\n",
    "\n",
    "times_dict = dict()\n",
    "for name, values in data.items():\n",
    "    times_dict[name] = []\n",
    "    for perf in values:\n",
    "        res = np.sum(\n",
    "            sum_per_time_step(\n",
    "                make_solve_linear_system_time(perf, converged=CONVERGED),\n",
    "                perf,\n",
    "                converged=CONVERGED,\n",
    "            )\n",
    "        )\n",
    "        times_dict[name].append(res)\n",
    "\n",
    "\n",
    "times = pd.DataFrame.from_dict(times_dict).T\n",
    "new_data = {\n",
    "    'Worst': times.max(axis=1),\n",
    "    'Mean': times.mean(axis=1),\n",
    "    'Best': times.min(axis=1),\n",
    "}\n",
    "df_mandel = pd.DataFrame.from_dict(new_data)\n",
    "df_mandel"
   ]
  },
  {
   "cell_type": "code",
   "execution_count": 7,
   "metadata": {},
   "outputs": [
    {
     "name": "stdout",
     "output_type": "stream",
     "text": [
      "Loading data:\n",
      "/home/firedrake/solver_selector/examples/3_medium/performance/thermal_eps_default_5.npy\n",
      "/home/firedrake/solver_selector/examples/3_medium/performance/thermal_eps_default_6.npy\n",
      "/home/firedrake/solver_selector/examples/3_medium/performance/thermal_eps_default_7.npy\n",
      "Loading data:\n",
      "/home/firedrake/solver_selector/examples/3_medium/performance/thermal_eps0_5.npy\n",
      "/home/firedrake/solver_selector/examples/3_medium/performance/thermal_eps0_6.npy\n",
      "/home/firedrake/solver_selector/examples/3_medium/performance/thermal_eps0_7.npy\n",
      "Loading data:\n",
      "/home/firedrake/solver_selector/examples/3_medium/performance/thermal_eps_big_5.npy\n",
      "/home/firedrake/solver_selector/examples/3_medium/performance/thermal_eps_big_6.npy\n",
      "/home/firedrake/solver_selector/examples/3_medium/performance/thermal_eps_big_7.npy\n",
      "Loading data:\n",
      "/home/firedrake/solver_selector/examples/3_medium/../1/performance/thermal_random_25.npy\n",
      "/home/firedrake/solver_selector/examples/3_medium/../1/performance/thermal_random_26.npy\n",
      "/home/firedrake/solver_selector/examples/3_medium/../1/performance/thermal_random_27.npy\n"
     ]
    },
    {
     "data": {
      "text/html": [
       "<div>\n",
       "<style scoped>\n",
       "    .dataframe tbody tr th:only-of-type {\n",
       "        vertical-align: middle;\n",
       "    }\n",
       "\n",
       "    .dataframe tbody tr th {\n",
       "        vertical-align: top;\n",
       "    }\n",
       "\n",
       "    .dataframe thead th {\n",
       "        text-align: right;\n",
       "    }\n",
       "</style>\n",
       "<table border=\"1\" class=\"dataframe\">\n",
       "  <thead>\n",
       "    <tr style=\"text-align: right;\">\n",
       "      <th></th>\n",
       "      <th>Worst</th>\n",
       "      <th>Mean</th>\n",
       "      <th>Best</th>\n",
       "    </tr>\n",
       "  </thead>\n",
       "  <tbody>\n",
       "    <tr>\n",
       "      <th>Standard exploration</th>\n",
       "      <td>106.871121</td>\n",
       "      <td>99.270255</td>\n",
       "      <td>95.067374</td>\n",
       "    </tr>\n",
       "    <tr>\n",
       "      <th>No exploration</th>\n",
       "      <td>109.610868</td>\n",
       "      <td>100.817661</td>\n",
       "      <td>94.493009</td>\n",
       "    </tr>\n",
       "    <tr>\n",
       "      <th>More exploration</th>\n",
       "      <td>100.789816</td>\n",
       "      <td>97.807806</td>\n",
       "      <td>95.739396</td>\n",
       "    </tr>\n",
       "    <tr>\n",
       "      <th>Random</th>\n",
       "      <td>115.199543</td>\n",
       "      <td>111.248201</td>\n",
       "      <td>107.385497</td>\n",
       "    </tr>\n",
       "  </tbody>\n",
       "</table>\n",
       "</div>"
      ],
      "text/plain": [
       "                           Worst        Mean        Best\n",
       "Standard exploration  106.871121   99.270255   95.067374\n",
       "No exploration        109.610868  100.817661   94.493009\n",
       "More exploration      100.789816   97.807806   95.739396\n",
       "Random                115.199543  111.248201  107.385497"
      ]
     },
     "execution_count": 7,
     "metadata": {},
     "output_type": "execute_result"
    }
   ],
   "source": [
    "data = {\n",
    "    \"Standard exploration\": load_data(\"thermal_eps_default\", n_newest=NUM_SIMS),\n",
    "    \"No exploration\": load_data(\"thermal_eps0\", n_newest=NUM_SIMS),\n",
    "    \"More exploration\": load_data(\"thermal_eps_big\", n_newest=NUM_SIMS),\n",
    "    \"Random\": load_data('../1/thermal_random', n_newest=NUM_SIMS)\n",
    "    # \"GP\": load_data(\"thermal_gp\", n_newest=NUM_SIMS),\n",
    "}\n",
    "\n",
    "times_dict = dict()\n",
    "for name, values in data.items():\n",
    "    times_dict[name] = []\n",
    "    for perf in values:\n",
    "        res = np.sum(\n",
    "            sum_per_time_step(\n",
    "                make_solve_linear_system_time(perf, converged=CONVERGED),\n",
    "                perf,\n",
    "                converged=CONVERGED,\n",
    "            )\n",
    "        )\n",
    "        times_dict[name].append(res)\n",
    "\n",
    "\n",
    "times = pd.DataFrame.from_dict(times_dict).T\n",
    "new_data = {\n",
    "    'Worst': times.max(axis=1),\n",
    "    'Mean': times.mean(axis=1),\n",
    "    'Best': times.min(axis=1),\n",
    "}\n",
    "df_thermal = pd.DataFrame.from_dict(new_data)\n",
    "df_thermal"
   ]
  },
  {
   "cell_type": "code",
   "execution_count": 8,
   "metadata": {},
   "outputs": [
    {
     "data": {
      "text/html": [
       "<style type=\"text/css\">\n",
       "#T_778f8_row0_col1, #T_778f8_row0_col2, #T_778f8_row1_col5, #T_778f8_row2_col0, #T_778f8_row2_col3, #T_778f8_row2_col4 {\n",
       "  textbf: --rwrap;\n",
       "}\n",
       "</style>\n",
       "<table id=\"T_778f8\">\n",
       "  <thead>\n",
       "    <tr>\n",
       "      <th class=\"blank level0\" >&nbsp;</th>\n",
       "      <th id=\"T_778f8_level0_col0\" class=\"col_heading level0 col0\" colspan=\"3\">Mandel problem</th>\n",
       "      <th id=\"T_778f8_level0_col3\" class=\"col_heading level0 col3\" colspan=\"3\">Thermal problem</th>\n",
       "    </tr>\n",
       "    <tr>\n",
       "      <th class=\"blank level1\" >&nbsp;</th>\n",
       "      <th id=\"T_778f8_level1_col0\" class=\"col_heading level1 col0\" >Worst</th>\n",
       "      <th id=\"T_778f8_level1_col1\" class=\"col_heading level1 col1\" >Mean</th>\n",
       "      <th id=\"T_778f8_level1_col2\" class=\"col_heading level1 col2\" >Best</th>\n",
       "      <th id=\"T_778f8_level1_col3\" class=\"col_heading level1 col3\" >Worst</th>\n",
       "      <th id=\"T_778f8_level1_col4\" class=\"col_heading level1 col4\" >Mean</th>\n",
       "      <th id=\"T_778f8_level1_col5\" class=\"col_heading level1 col5\" >Best</th>\n",
       "    </tr>\n",
       "  </thead>\n",
       "  <tbody>\n",
       "    <tr>\n",
       "      <th id=\"T_778f8_level0_row0\" class=\"row_heading level0 row0\" >Standard exploration</th>\n",
       "      <td id=\"T_778f8_row0_col0\" class=\"data row0 col0\" >65.47</td>\n",
       "      <td id=\"T_778f8_row0_col1\" class=\"data row0 col1\" >64.66</td>\n",
       "      <td id=\"T_778f8_row0_col2\" class=\"data row0 col2\" >64.13</td>\n",
       "      <td id=\"T_778f8_row0_col3\" class=\"data row0 col3\" >106.87</td>\n",
       "      <td id=\"T_778f8_row0_col4\" class=\"data row0 col4\" >99.27</td>\n",
       "      <td id=\"T_778f8_row0_col5\" class=\"data row0 col5\" >95.07</td>\n",
       "    </tr>\n",
       "    <tr>\n",
       "      <th id=\"T_778f8_level0_row1\" class=\"row_heading level0 row1\" >No exploration</th>\n",
       "      <td id=\"T_778f8_row1_col0\" class=\"data row1 col0\" >68.76</td>\n",
       "      <td id=\"T_778f8_row1_col1\" class=\"data row1 col1\" >66.18</td>\n",
       "      <td id=\"T_778f8_row1_col2\" class=\"data row1 col2\" >64.19</td>\n",
       "      <td id=\"T_778f8_row1_col3\" class=\"data row1 col3\" >109.61</td>\n",
       "      <td id=\"T_778f8_row1_col4\" class=\"data row1 col4\" >100.82</td>\n",
       "      <td id=\"T_778f8_row1_col5\" class=\"data row1 col5\" >94.49</td>\n",
       "    </tr>\n",
       "    <tr>\n",
       "      <th id=\"T_778f8_level0_row2\" class=\"row_heading level0 row2\" >More exploration</th>\n",
       "      <td id=\"T_778f8_row2_col0\" class=\"data row2 col0\" >64.99</td>\n",
       "      <td id=\"T_778f8_row2_col1\" class=\"data row2 col1\" >64.80</td>\n",
       "      <td id=\"T_778f8_row2_col2\" class=\"data row2 col2\" >64.47</td>\n",
       "      <td id=\"T_778f8_row2_col3\" class=\"data row2 col3\" >100.79</td>\n",
       "      <td id=\"T_778f8_row2_col4\" class=\"data row2 col4\" >97.81</td>\n",
       "      <td id=\"T_778f8_row2_col5\" class=\"data row2 col5\" >95.74</td>\n",
       "    </tr>\n",
       "  </tbody>\n",
       "</table>\n"
      ],
      "text/plain": [
       "<pandas.io.formats.style.Styler at 0x7fae5f174520>"
      ]
     },
     "execution_count": 8,
     "metadata": {},
     "output_type": "execute_result"
    }
   ],
   "source": [
    "df = pd.concat((df_mandel, df_thermal), join='inner', axis=1, keys=(\"Mandel problem\", \"Thermal problem\"))\n",
    "df = df.style.highlight_min(axis=0, props=\"textbf:--rwrap;\").format(precision=2)\n",
    "df"
   ]
  },
  {
   "cell_type": "code",
   "execution_count": 5,
   "metadata": {},
   "outputs": [
    {
     "name": "stdout",
     "output_type": "stream",
     "text": [
      "\\begin{tabular}{lrrrrrr}\n",
      " & \\multicolumn{3}{r}{Mandel problem} & \\multicolumn{3}{r}{Thermal problem} \\\\\n",
      " & Worst & Mean & Best & Worst & Mean & Best \\\\\n",
      "Standard exploration & 65.47 & \\textbf{64.66} & \\textbf{64.13} & 106.87 & 99.27 & 95.07 \\\\\n",
      "No exploration & 68.76 & 66.18 & 64.19 & 109.61 & 100.82 & \\textbf{94.49} \\\\\n",
      "More exploration & \\textbf{64.99} & 64.80 & 64.47 & \\textbf{100.79} & \\textbf{97.81} & 95.74 \\\\\n",
      "\\end{tabular}\n",
      "\n"
     ]
    }
   ],
   "source": [
    "print(df.to_latex())"
   ]
  },
  {
   "cell_type": "markdown",
   "metadata": {},
   "source": [
    "    \\begin{tabular}{ l | rrr | rrr }\n",
    "    \\toprule\n",
    "     & \\multicolumn{3}{c}{Mandel problem} & \\multicolumn{3}{c}{Thermal problem} \\\\\n",
    "     & Worst & Mean & Best & Worst & Mean & Best \\\\\n",
    "     \\midrule\n",
    "    Standard exploration & 30.30 & 30.01 & 29.83 & 77.06 & 75.84 & 73.67 \\\\\n",
    "    No exploration & 29.03 & 28.61 & 28.38 & 75.49 & 73.96 & 73.04 \\\\\n",
    "    More exploration & 29.20 & 28.97 & 28.80 & 73.61 & 72.74 & 71.66 \\\\\n",
    "    GP & \\textbf{28.72} & \\textbf{28.50} & \\textbf{28.35} & \\textbf{69.01} & \\textbf{67.86} & \\textbf{66.46} \\\\\n",
    "    \\bottomrule\n",
    "    \\end{tabular}"
   ]
  },
  {
   "cell_type": "markdown",
   "metadata": {},
   "source": []
  }
 ],
 "metadata": {
  "kernelspec": {
   "display_name": "pp",
   "language": "python",
   "name": "python3"
  },
  "language_info": {
   "codemirror_mode": {
    "name": "ipython",
    "version": 3
   },
   "file_extension": ".py",
   "mimetype": "text/x-python",
   "name": "python",
   "nbconvert_exporter": "python",
   "pygments_lexer": "ipython3",
   "version": "3.10.12"
  },
  "orig_nbformat": 4
 },
 "nbformat": 4,
 "nbformat_minor": 2
}
