{
 "cells": [
  {
   "cell_type": "code",
   "execution_count": 1,
   "metadata": {},
   "outputs": [
    {
     "name": "stderr",
     "output_type": "stream",
     "text": [
      "/home/firedrake/workspace/porepy_workspace/porepy/src/porepy/numerics/nonlinear/nonlinear_solvers.py:13: TqdmExperimentalWarning: Using `tqdm.autonotebook.tqdm` in notebook mode. Use `tqdm.tqdm` instead to force console mode (e.g. in jupyter console)\n",
      "  from tqdm.autonotebook import trange  # type: ignore\n"
     ]
    },
    {
     "name": "stdout",
     "output_type": "stream",
     "text": [
      "\n"
     ]
    }
   ],
   "source": [
    "from pathlib import Path\n",
    "\n",
    "from data_scripts import get_newest_data_paths\n",
    "from mandel_model import make_mandel_setup\n",
    "from mandel_solvers import make_mandel_solver_space\n",
    "\n",
    "from solver_selector.simulation_runner import make_simulation_runner\n",
    "\n",
    "path = Path().parent / \"../2\"\n",
    "load_data_paths = get_newest_data_paths(path / \"poro_coldstart_s\", n_newest=1)\n",
    "load_data_paths += get_newest_data_paths(path / \"poro_coldstart_m\", n_newest=1)\n",
    "assert len(load_data_paths) == 2\n",
    "\n",
    "solver_space = make_mandel_solver_space(l_factor=\"dynamic\")\n",
    "simulation = make_mandel_setup(model_size=\"large\")"
   ]
  },
  {
   "cell_type": "code",
   "execution_count": 2,
   "metadata": {},
   "outputs": [
    {
     "name": "stdout",
     "output_type": "stream",
     "text": [
      "Selecting from 1 solvers.\n",
      "0 gmres - splitting_fixed_stress [primary - direct, secondary - direct, l_factor=0, primary_variable, method]\n",
      "Using Gaussian process, exploration: 0.1\n",
      "Warm start using data:\n",
      "/home/firedrake/workspace/porepy_workspace/solver_selector/examples/3/../2/performance/poro_coldstart_s_6.npy\n",
      "/home/firedrake/workspace/porepy_workspace/solver_selector/examples/3/../2/performance/poro_coldstart_m_5.npy\n"
     ]
    }
   ],
   "source": [
    "simulation_runner = make_simulation_runner(\n",
    "    solver_space=solver_space,\n",
    "    params={\n",
    "        \"load_statistics_paths\": load_data_paths,\n",
    "        \"print_solver\": True,\n",
    "        \"predictor\": \"gaussian_process\",\n",
    "        # 'regressor': 'mlp',\n",
    "    },\n",
    ")"
   ]
  },
  {
   "cell_type": "code",
   "execution_count": 3,
   "metadata": {},
   "outputs": [
    {
     "data": {
      "text/html": [
       "<div>\n",
       "<style scoped>\n",
       "    .dataframe tbody tr th:only-of-type {\n",
       "        vertical-align: middle;\n",
       "    }\n",
       "\n",
       "    .dataframe tbody tr th {\n",
       "        vertical-align: top;\n",
       "    }\n",
       "\n",
       "    .dataframe thead th {\n",
       "        text-align: right;\n",
       "    }\n",
       "</style>\n",
       "<table border=\"1\" class=\"dataframe\">\n",
       "  <thead>\n",
       "    <tr style=\"text-align: right;\">\n",
       "      <th></th>\n",
       "      <th>ts</th>\n",
       "      <th>ms</th>\n",
       "      <th>cfl_mean</th>\n",
       "      <th>cfl_max</th>\n",
       "      <th>l_factor</th>\n",
       "      <th>target</th>\n",
       "    </tr>\n",
       "  </thead>\n",
       "  <tbody>\n",
       "    <tr>\n",
       "      <th>count</th>\n",
       "      <td>2.000000e+02</td>\n",
       "      <td>200.000000</td>\n",
       "      <td>200.000000</td>\n",
       "      <td>200.000000</td>\n",
       "      <td>200.000000</td>\n",
       "      <td>200.000000</td>\n",
       "    </tr>\n",
       "    <tr>\n",
       "      <th>mean</th>\n",
       "      <td>2.302585e+00</td>\n",
       "      <td>9.168575</td>\n",
       "      <td>4.761302</td>\n",
       "      <td>2.675176</td>\n",
       "      <td>0.622368</td>\n",
       "      <td>0.746518</td>\n",
       "    </tr>\n",
       "    <tr>\n",
       "      <th>std</th>\n",
       "      <td>4.452036e-16</td>\n",
       "      <td>0.284955</td>\n",
       "      <td>0.669823</td>\n",
       "      <td>0.074469</td>\n",
       "      <td>0.131955</td>\n",
       "      <td>0.404360</td>\n",
       "    </tr>\n",
       "    <tr>\n",
       "      <th>min</th>\n",
       "      <td>2.302585e+00</td>\n",
       "      <td>8.884333</td>\n",
       "      <td>4.250723</td>\n",
       "      <td>2.650625</td>\n",
       "      <td>0.000000</td>\n",
       "      <td>0.116676</td>\n",
       "    </tr>\n",
       "    <tr>\n",
       "      <th>25%</th>\n",
       "      <td>2.302585e+00</td>\n",
       "      <td>8.884333</td>\n",
       "      <td>4.380047</td>\n",
       "      <td>2.658663</td>\n",
       "      <td>0.631579</td>\n",
       "      <td>0.366121</td>\n",
       "    </tr>\n",
       "    <tr>\n",
       "      <th>50%</th>\n",
       "      <td>2.302585e+00</td>\n",
       "      <td>9.168575</td>\n",
       "      <td>4.566675</td>\n",
       "      <td>2.666951</td>\n",
       "      <td>0.631579</td>\n",
       "      <td>0.642750</td>\n",
       "    </tr>\n",
       "    <tr>\n",
       "      <th>75%</th>\n",
       "      <td>2.302585e+00</td>\n",
       "      <td>9.452816</td>\n",
       "      <td>4.896778</td>\n",
       "      <td>2.671508</td>\n",
       "      <td>0.684211</td>\n",
       "      <td>1.168264</td>\n",
       "    </tr>\n",
       "    <tr>\n",
       "      <th>max</th>\n",
       "      <td>2.302585e+00</td>\n",
       "      <td>9.452816</td>\n",
       "      <td>9.615875</td>\n",
       "      <td>3.467773</td>\n",
       "      <td>1.000000</td>\n",
       "      <td>1.198279</td>\n",
       "    </tr>\n",
       "  </tbody>\n",
       "</table>\n",
       "</div>"
      ],
      "text/plain": [
       "                 ts          ms    cfl_mean     cfl_max    l_factor  \\\n",
       "count  2.000000e+02  200.000000  200.000000  200.000000  200.000000   \n",
       "mean   2.302585e+00    9.168575    4.761302    2.675176    0.622368   \n",
       "std    4.452036e-16    0.284955    0.669823    0.074469    0.131955   \n",
       "min    2.302585e+00    8.884333    4.250723    2.650625    0.000000   \n",
       "25%    2.302585e+00    8.884333    4.380047    2.658663    0.631579   \n",
       "50%    2.302585e+00    9.168575    4.566675    2.666951    0.631579   \n",
       "75%    2.302585e+00    9.452816    4.896778    2.671508    0.684211   \n",
       "max    2.302585e+00    9.452816    9.615875    3.467773    1.000000   \n",
       "\n",
       "           target  \n",
       "count  200.000000  \n",
       "mean     0.746518  \n",
       "std      0.404360  \n",
       "min      0.116676  \n",
       "25%      0.366121  \n",
       "50%      0.642750  \n",
       "75%      1.168264  \n",
       "max      1.198279  "
      ]
     },
     "execution_count": 3,
     "metadata": {},
     "output_type": "execute_result"
    }
   ],
   "source": [
    "import pandas as pd\n",
    "import numpy as np\n",
    "\n",
    "predictor = simulation_runner.solver_selector.predictors[0]\n",
    "X = np.array(predictor.memory_contexts)\n",
    "y = np.array(predictor.memory_rewards)\n",
    "\n",
    "data = pd.DataFrame(X, columns=['ts', 'ms', 'cfl_mean', 'cfl_max', 'l_factor'])\n",
    "data['target'] = y\n",
    "data.describe()"
   ]
  },
  {
   "cell_type": "code",
   "execution_count": 4,
   "metadata": {},
   "outputs": [],
   "source": [
    "ts_mean = data.ts.mean()\n",
    "ms = np.linspace(data.ms.min(), data.ms.max() + (data.ms.max() - data.ms.min()), 100)\n",
    "cfl_mean = data.cfl_mean.mean()\n",
    "cfl_max = data.cfl_max.mean()\n",
    "l_factor = np.linspace(data.l_factor.min(), data.l_factor.max(), 100)\n",
    "\n",
    "ms, l_factor = np.meshgrid(ms, l_factor, indexing='ij')\n",
    "\n",
    "data1 = np.zeros((5, 100, 100))\n",
    "data1[0] = ts_mean\n",
    "data1[1] = ms\n",
    "data1[2] = cfl_mean\n",
    "data1[3] = cfl_max\n",
    "data1[4] = l_factor\n",
    "data1 = data1.reshape(5, -1)\n",
    "data1 = data1.T\n",
    "\n",
    "target1 = predictor.regressor.predict(data1)\n",
    "df1 = pd.DataFrame(data1, columns=['ts', 'ms', 'cfl_mean', 'cfl_max', 'l_factor'])\n",
    "df1['target'] = target1"
   ]
  },
  {
   "cell_type": "code",
   "execution_count": 5,
   "metadata": {},
   "outputs": [],
   "source": [
    "mean, std = predictor.regressor.predict(data1, return_std=True)\n",
    "df1['target'] = mean + std"
   ]
  },
  {
   "cell_type": "code",
   "execution_count": 6,
   "metadata": {},
   "outputs": [
    {
     "data": {
      "text/html": [
       "\n",
       "        <iframe\n",
       "            width=\"100%\"\n",
       "            height=\"650\"\n",
       "            src=\"http://127.0.0.1:8050/\"\n",
       "            frameborder=\"0\"\n",
       "            allowfullscreen\n",
       "            \n",
       "        ></iframe>\n",
       "        "
      ],
      "text/plain": [
       "<IPython.lib.display.IFrame at 0x7f4bf9e2faf0>"
      ]
     },
     "metadata": {},
     "output_type": "display_data"
    }
   ],
   "source": [
    "from dash_app import make_app\n",
    "\n",
    "make_app([data, df1])"
   ]
  }
 ],
 "metadata": {
  "kernelspec": {
   "display_name": "firedrake",
   "language": "python",
   "name": "python3"
  },
  "language_info": {
   "codemirror_mode": {
    "name": "ipython",
    "version": 3
   },
   "file_extension": ".py",
   "mimetype": "text/x-python",
   "name": "python",
   "nbconvert_exporter": "python",
   "pygments_lexer": "ipython3",
   "version": "3.10.6"
  },
  "orig_nbformat": 4
 },
 "nbformat": 4,
 "nbformat_minor": 2
}
