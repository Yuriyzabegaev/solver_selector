{
 "cells": [
  {
   "cell_type": "code",
   "execution_count": 1,
   "metadata": {},
   "outputs": [
    {
     "name": "stdout",
     "output_type": "stream",
     "text": [
      "Loading data:\n",
      "/home/firedrake/solver_selector/examples/2/performance/thermal_coldstart_m_16.npy\n"
     ]
    },
    {
     "name": "stderr",
     "output_type": "stream",
     "text": [
      "/home/firedrake/porepy/src/porepy/numerics/nonlinear/nonlinear_solvers.py:13: TqdmExperimentalWarning: Using `tqdm.autonotebook.tqdm` in notebook mode. Use `tqdm.tqdm` instead to force console mode (e.g. in jupyter console)\n",
      "  from tqdm.autonotebook import trange  # type: ignore\n"
     ]
    }
   ],
   "source": [
    "import numpy as np\n",
    "from data_scripts import load_data\n",
    "from thermal_solvers import make_thermal_solver_space\n",
    "from matplotlib import pyplot as plt\n",
    "\n",
    "N_NEWEST = 1\n",
    "\n",
    "\n",
    "def only_cpr(path):\n",
    "    data = load_data(path, n_newest=N_NEWEST)\n",
    "    results = []\n",
    "    for sim in data:\n",
    "        results.extend(\n",
    "            [val for val in sim if \"cpr\" in val.config[\"gmres\"][\"preconditioner\"]]\n",
    "        )\n",
    "    return results\n",
    "\n",
    "np.random.seed(42)\n",
    "\n",
    "# data_m = only_cpr(\"examples/2/thermal_warmstart_m_s_stacking.py\")\n",
    "data_m = only_cpr(\"examples/2/thermal_coldstart_m.py\")\n",
    "# data_l = only_cpr('examples/2/thermal_coldstart_l.py')"
   ]
  },
  {
   "cell_type": "code",
   "execution_count": 2,
   "metadata": {},
   "outputs": [],
   "source": [
    "from data_scripts import get_newest_data_paths\n",
    "from solver_selector.performance_predictor import make_performance_predictor, train_performance_predictor\n",
    "from thermal_solvers import make_thermal_solver_space\n",
    "\n",
    "cpr_template = make_thermal_solver_space(solver='cpr').get_all_solvers()[0]"
   ]
  },
  {
   "cell_type": "code",
   "execution_count": 3,
   "metadata": {},
   "outputs": [],
   "source": [
    "def compare(div):\n",
    "    data_train, data_test = data_m[:div], data_m[div:]\n",
    "    # data_train, data_test = data_l[:div], data_l[div:]\n",
    "\n",
    "    stacking = make_performance_predictor(\n",
    "        params={\n",
    "            \"print_solver\": True,\n",
    "            \"regressor\": \"stacking\",\n",
    "            \"samples_before_fit\": 0,\n",
    "            \"stacking_datasets\": [\n",
    "                get_newest_data_paths(\"examples/1/thermal_dynamic\", n_newest=1),\n",
    "                # get_newest_data_paths(\"examples/2/thermal_coldstart_m\", n_newest=1),\n",
    "            ],\n",
    "        },\n",
    "        solver_template=cpr_template,\n",
    "    )\n",
    "\n",
    "    baseline = make_performance_predictor(\n",
    "        params={\n",
    "            \"print_solver\": True,\n",
    "            \"samples_before_fit\": 0,\n",
    "        },\n",
    "        solver_template=cpr_template,\n",
    "    )\n",
    "    train_performance_predictor(\n",
    "        baseline,\n",
    "        data_paths=(\n",
    "            get_newest_data_paths(\"examples/1/thermal_dynamic\", n_newest=1)\n",
    "            # + get_newest_data_paths(\"examples/2/thermal_coldstart_m\", n_newest=1)\n",
    "        ),\n",
    "    )\n",
    "\n",
    "    stacking.offline_update(data_train)\n",
    "    baseline.offline_update(data_train)\n",
    "\n",
    "    full_contexts_list = []\n",
    "    rewards_list = []\n",
    "    for selection_data in data_test:\n",
    "        full_context, rewards = baseline._prepare_fit_data(selection_data)\n",
    "        full_contexts_list.append(full_context)\n",
    "        rewards_list.append(rewards)\n",
    "    full_contexts = np.concatenate(full_contexts_list)\n",
    "    rewards = np.concatenate(rewards_list)\n",
    "\n",
    "    baseline_score = baseline.regressor.score(full_contexts, rewards)\n",
    "    stacking_score = stacking.regressor.score(full_contexts, rewards)\n",
    "    coefs = list(stacking.regressor.trust_model.coef_) + [\n",
    "        stacking.regressor.trust_model.intercept_\n",
    "    ]\n",
    "    # coefs = None\n",
    "    # stacking_score = None\n",
    "    return baseline_score, stacking_score, coefs"
   ]
  },
  {
   "cell_type": "code",
   "execution_count": 4,
   "metadata": {},
   "outputs": [
    {
     "name": "stderr",
     "output_type": "stream",
     "text": [
      "  0%|          | 0/15 [00:00<?, ?it/s]"
     ]
    },
    {
     "name": "stdout",
     "output_type": "stream",
     "text": [
      "Using epsilon-greedy exploration\n",
      "Using regressor: stacking\n",
      "Building base predictor 0 with data:\n",
      "/home/firedrake/solver_selector/examples/1/performance/thermal_dynamic_33.npy\n",
      "Using epsilon-greedy exploration\n",
      "Using regressor: gradient_boosting\n",
      "Using epsilon-greedy exploration\n",
      "Using regressor: gradient_boosting\n",
      "Using epsilon-greedy exploration\n",
      "Using regressor: gradient_boosting\n"
     ]
    },
    {
     "name": "stderr",
     "output_type": "stream",
     "text": [
      "  7%|▋         | 1/15 [00:00<00:07,  1.82it/s]"
     ]
    },
    {
     "name": "stdout",
     "output_type": "stream",
     "text": [
      "Using epsilon-greedy exploration\n",
      "Using regressor: stacking\n",
      "Building base predictor 0 with data:\n",
      "/home/firedrake/solver_selector/examples/1/performance/thermal_dynamic_33.npy\n",
      "Using epsilon-greedy exploration\n",
      "Using regressor: gradient_boosting\n",
      "Using epsilon-greedy exploration\n",
      "Using regressor: gradient_boosting\n",
      "Using epsilon-greedy exploration\n",
      "Using regressor: gradient_boosting\n"
     ]
    },
    {
     "name": "stderr",
     "output_type": "stream",
     "text": [
      " 13%|█▎        | 2/15 [00:00<00:05,  2.18it/s]"
     ]
    },
    {
     "name": "stdout",
     "output_type": "stream",
     "text": [
      "Using epsilon-greedy exploration\n",
      "Using regressor: stacking\n",
      "Building base predictor 0 with data:\n",
      "/home/firedrake/solver_selector/examples/1/performance/thermal_dynamic_33.npy\n",
      "Using epsilon-greedy exploration\n",
      "Using regressor: gradient_boosting\n",
      "Using epsilon-greedy exploration\n",
      "Using regressor: gradient_boosting\n",
      "Using epsilon-greedy exploration\n",
      "Using regressor: gradient_boosting\n"
     ]
    },
    {
     "name": "stderr",
     "output_type": "stream",
     "text": [
      " 20%|██        | 3/15 [00:01<00:05,  2.33it/s]"
     ]
    },
    {
     "name": "stdout",
     "output_type": "stream",
     "text": [
      "Using epsilon-greedy exploration\n",
      "Using regressor: stacking\n",
      "Building base predictor 0 with data:\n",
      "/home/firedrake/solver_selector/examples/1/performance/thermal_dynamic_33.npy\n",
      "Using epsilon-greedy exploration\n",
      "Using regressor: gradient_boosting\n",
      "Using epsilon-greedy exploration\n",
      "Using regressor: gradient_boosting\n",
      "Using epsilon-greedy exploration\n",
      "Using regressor: gradient_boosting\n"
     ]
    },
    {
     "name": "stderr",
     "output_type": "stream",
     "text": [
      " 27%|██▋       | 4/15 [00:01<00:04,  2.40it/s]"
     ]
    },
    {
     "name": "stdout",
     "output_type": "stream",
     "text": [
      "Using epsilon-greedy exploration\n",
      "Using regressor: stacking\n",
      "Building base predictor 0 with data:\n",
      "/home/firedrake/solver_selector/examples/1/performance/thermal_dynamic_33.npy\n",
      "Using epsilon-greedy exploration\n",
      "Using regressor: gradient_boosting\n",
      "Using epsilon-greedy exploration\n",
      "Using regressor: gradient_boosting\n",
      "Using epsilon-greedy exploration\n",
      "Using regressor: gradient_boosting\n"
     ]
    },
    {
     "name": "stderr",
     "output_type": "stream",
     "text": [
      " 33%|███▎      | 5/15 [00:02<00:04,  2.44it/s]"
     ]
    },
    {
     "name": "stdout",
     "output_type": "stream",
     "text": [
      "Using epsilon-greedy exploration\n",
      "Using regressor: stacking\n",
      "Building base predictor 0 with data:\n",
      "/home/firedrake/solver_selector/examples/1/performance/thermal_dynamic_33.npy\n",
      "Using epsilon-greedy exploration\n",
      "Using regressor: gradient_boosting\n",
      "Using epsilon-greedy exploration\n",
      "Using regressor: gradient_boosting\n",
      "Using epsilon-greedy exploration\n",
      "Using regressor: gradient_boosting\n"
     ]
    },
    {
     "name": "stderr",
     "output_type": "stream",
     "text": [
      " 40%|████      | 6/15 [00:02<00:04,  2.22it/s]"
     ]
    },
    {
     "name": "stdout",
     "output_type": "stream",
     "text": [
      "Using epsilon-greedy exploration\n",
      "Using regressor: stacking\n",
      "Building base predictor 0 with data:\n",
      "/home/firedrake/solver_selector/examples/1/performance/thermal_dynamic_33.npy\n",
      "Using epsilon-greedy exploration\n",
      "Using regressor: gradient_boosting\n",
      "Using epsilon-greedy exploration\n",
      "Using regressor: gradient_boosting\n",
      "Using epsilon-greedy exploration\n",
      "Using regressor: gradient_boosting\n"
     ]
    },
    {
     "name": "stderr",
     "output_type": "stream",
     "text": [
      " 47%|████▋     | 7/15 [00:03<00:03,  2.32it/s]"
     ]
    },
    {
     "name": "stdout",
     "output_type": "stream",
     "text": [
      "Using epsilon-greedy exploration\n",
      "Using regressor: stacking\n",
      "Building base predictor 0 with data:\n",
      "/home/firedrake/solver_selector/examples/1/performance/thermal_dynamic_33.npy\n",
      "Using epsilon-greedy exploration\n",
      "Using regressor: gradient_boosting\n",
      "Using epsilon-greedy exploration\n",
      "Using regressor: gradient_boosting\n",
      "Using epsilon-greedy exploration\n",
      "Using regressor: gradient_boosting\n"
     ]
    },
    {
     "name": "stderr",
     "output_type": "stream",
     "text": [
      " 53%|█████▎    | 8/15 [00:03<00:02,  2.39it/s]"
     ]
    },
    {
     "name": "stdout",
     "output_type": "stream",
     "text": [
      "Using epsilon-greedy exploration\n",
      "Using regressor: stacking\n",
      "Building base predictor 0 with data:\n",
      "/home/firedrake/solver_selector/examples/1/performance/thermal_dynamic_33.npy\n",
      "Using epsilon-greedy exploration\n",
      "Using regressor: gradient_boosting\n",
      "Using epsilon-greedy exploration\n",
      "Using regressor: gradient_boosting\n",
      "Using epsilon-greedy exploration\n",
      "Using regressor: gradient_boosting\n"
     ]
    },
    {
     "name": "stderr",
     "output_type": "stream",
     "text": [
      " 60%|██████    | 9/15 [00:03<00:02,  2.38it/s]"
     ]
    },
    {
     "name": "stdout",
     "output_type": "stream",
     "text": [
      "Using epsilon-greedy exploration\n",
      "Using regressor: stacking\n",
      "Building base predictor 0 with data:\n",
      "/home/firedrake/solver_selector/examples/1/performance/thermal_dynamic_33.npy\n",
      "Using epsilon-greedy exploration\n",
      "Using regressor: gradient_boosting\n",
      "Using epsilon-greedy exploration\n",
      "Using regressor: gradient_boosting\n",
      "Using epsilon-greedy exploration\n",
      "Using regressor: gradient_boosting\n"
     ]
    },
    {
     "name": "stderr",
     "output_type": "stream",
     "text": [
      " 67%|██████▋   | 10/15 [00:04<00:02,  2.38it/s]"
     ]
    },
    {
     "name": "stdout",
     "output_type": "stream",
     "text": [
      "Using epsilon-greedy exploration\n",
      "Using regressor: stacking\n",
      "Building base predictor 0 with data:\n",
      "/home/firedrake/solver_selector/examples/1/performance/thermal_dynamic_33.npy\n",
      "Using epsilon-greedy exploration\n",
      "Using regressor: gradient_boosting\n",
      "Using epsilon-greedy exploration\n",
      "Using regressor: gradient_boosting\n",
      "Using epsilon-greedy exploration\n",
      "Using regressor: gradient_boosting\n"
     ]
    },
    {
     "name": "stderr",
     "output_type": "stream",
     "text": [
      " 73%|███████▎  | 11/15 [00:04<00:01,  2.15it/s]"
     ]
    },
    {
     "name": "stdout",
     "output_type": "stream",
     "text": [
      "Using epsilon-greedy exploration\n",
      "Using regressor: stacking\n",
      "Building base predictor 0 with data:\n",
      "/home/firedrake/solver_selector/examples/1/performance/thermal_dynamic_33.npy\n",
      "Using epsilon-greedy exploration\n",
      "Using regressor: gradient_boosting\n",
      "Using epsilon-greedy exploration\n",
      "Using regressor: gradient_boosting\n",
      "Using epsilon-greedy exploration\n",
      "Using regressor: gradient_boosting\n"
     ]
    },
    {
     "name": "stderr",
     "output_type": "stream",
     "text": [
      " 80%|████████  | 12/15 [00:05<00:01,  2.19it/s]"
     ]
    },
    {
     "name": "stdout",
     "output_type": "stream",
     "text": [
      "Using epsilon-greedy exploration\n",
      "Using regressor: stacking\n",
      "Building base predictor 0 with data:\n",
      "/home/firedrake/solver_selector/examples/1/performance/thermal_dynamic_33.npy\n",
      "Using epsilon-greedy exploration\n",
      "Using regressor: gradient_boosting\n",
      "Using epsilon-greedy exploration\n",
      "Using regressor: gradient_boosting\n",
      "Using epsilon-greedy exploration\n",
      "Using regressor: gradient_boosting\n"
     ]
    },
    {
     "name": "stderr",
     "output_type": "stream",
     "text": [
      " 87%|████████▋ | 13/15 [00:05<00:00,  2.23it/s]"
     ]
    },
    {
     "name": "stdout",
     "output_type": "stream",
     "text": [
      "Using epsilon-greedy exploration\n",
      "Using regressor: stacking\n",
      "Building base predictor 0 with data:\n",
      "/home/firedrake/solver_selector/examples/1/performance/thermal_dynamic_33.npy\n",
      "Using epsilon-greedy exploration\n",
      "Using regressor: gradient_boosting\n",
      "Using epsilon-greedy exploration\n",
      "Using regressor: gradient_boosting\n",
      "Using epsilon-greedy exploration\n",
      "Using regressor: gradient_boosting\n"
     ]
    },
    {
     "name": "stderr",
     "output_type": "stream",
     "text": [
      " 93%|█████████▎| 14/15 [00:06<00:00,  2.25it/s]"
     ]
    },
    {
     "name": "stdout",
     "output_type": "stream",
     "text": [
      "Using epsilon-greedy exploration\n",
      "Using regressor: stacking\n",
      "Building base predictor 0 with data:\n",
      "/home/firedrake/solver_selector/examples/1/performance/thermal_dynamic_33.npy\n",
      "Using epsilon-greedy exploration\n",
      "Using regressor: gradient_boosting\n",
      "Using epsilon-greedy exploration\n",
      "Using regressor: gradient_boosting\n",
      "Using epsilon-greedy exploration\n",
      "Using regressor: gradient_boosting\n"
     ]
    },
    {
     "name": "stderr",
     "output_type": "stream",
     "text": [
      "100%|██████████| 15/15 [00:06<00:00,  2.24it/s]\n"
     ]
    }
   ],
   "source": [
    "from tqdm import tqdm\n",
    "\n",
    "b_list = []\n",
    "s_list = []\n",
    "c_list = []\n",
    "x_list = np.arange(5, 20)\n",
    "for i in tqdm(x_list):\n",
    "    baseline, stacking, coefs = compare(div=i)\n",
    "    b_list.append(baseline)\n",
    "    s_list.append(stacking)\n",
    "    c_list.append(coefs)\n"
   ]
  },
  {
   "cell_type": "code",
   "execution_count": 5,
   "metadata": {},
   "outputs": [
    {
     "data": {
      "text/plain": [
       "<matplotlib.legend.Legend at 0x7f3172eeae90>"
      ]
     },
     "execution_count": 5,
     "metadata": {},
     "output_type": "execute_result"
    },
    {
     "data": {
      "image/png": "[encoded data removed]",
      "text/plain": [
       "<Figure size 640x480 with 1 Axes>"
      ]
     },
     "metadata": {},
     "output_type": "display_data"
    }
   ],
   "source": [
    "plt.plot(x_list, b_list, label=\"baseline\")\n",
    "plt.plot(x_list, s_list, label=\"stacking\")\n",
    "plt.title(\"accuracy\")\n",
    "# plt.ylim(0, 1)\n",
    "plt.legend()"
   ]
  },
  {
   "cell_type": "code",
   "execution_count": 8,
   "metadata": {},
   "outputs": [
    {
     "data": {
      "text/plain": [
       "<matplotlib.legend.Legend at 0x7f3172cb65c0>"
      ]
     },
     "execution_count": 8,
     "metadata": {},
     "output_type": "execute_result"
    },
    {
     "data": {
      "image/png": "[encoded data removed]",
      "text/plain": [
       "<Figure size 640x480 with 1 Axes>"
      ]
     },
     "metadata": {},
     "output_type": "display_data"
    }
   ],
   "source": [
    "plt.plot(np.array(c_list)[:, 0], label=\"$k_S$\")\n",
    "plt.plot(np.array(c_list)[:, 1], label=\"$k_M$\")\n",
    "# plt.plot(np.array(c_list)[:, 2], label=\"$k_L$\")\n",
    "# plt.plot(np.array(c_list)[:, 3], label='$b$')\n",
    "plt.title(\"Trust\")\n",
    "# plt.yscale('log')\n",
    "plt.legend()"
   ]
  }
 ],
 "metadata": {
  "kernelspec": {
   "display_name": "firedrake",
   "language": "python",
   "name": "python3"
  },
  "language_info": {
   "codemirror_mode": {
    "name": "ipython",
    "version": 3
   },
   "file_extension": ".py",
   "mimetype": "text/x-python",
   "name": "python",
   "nbconvert_exporter": "python",
   "pygments_lexer": "ipython3",
   "version": "3.10.12"
  },
  "orig_nbformat": 4
 },
 "nbformat": 4,
 "nbformat_minor": 2
}
