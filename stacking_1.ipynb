{
 "cells": [
  {
   "cell_type": "code",
   "execution_count": 1,
   "metadata": {},
   "outputs": [],
   "source": [
    "import numpy as np\n",
    "from data_scripts import load_data as load_data_\n",
    "from thermal_solvers import make_thermal_solver_space\n",
    "from matplotlib import pyplot as plt\n",
    "\n",
    "N_NEWEST = 1\n",
    "\n",
    "\n",
    "def load_data(path):\n",
    "    return load_data_(path, n_newest=1)[0]\n",
    "\n",
    "np.random.seed(42)\n",
    "\n",
    "# data_m = only_cpr(\"examples/2/thermal_warmstart_m_s_stacking.py\")\n",
    "# data_m = only_cpr(\"examples/2/thermal_warmstart_m_s_stacking\")\n",
    "# data_l = load_data('examples/2/thermal_warmstart_l_sm_stacking')"
   ]
  },
  {
   "cell_type": "code",
   "execution_count": 2,
   "metadata": {},
   "outputs": [],
   "source": [
    "from data_scripts import get_newest_data_paths\n",
    "from solver_selector.solver_selector import make_solver_selector \n",
    "from solver_selector.performance_predictor import make_performance_predictor, train_performance_predictor\n",
    "from thermal_solvers import make_thermal_solver_space\n",
    "\n",
    "solver_space = make_thermal_solver_space(solver='dynamic')"
   ]
  },
  {
   "cell_type": "code",
   "execution_count": 3,
   "metadata": {},
   "outputs": [],
   "source": [
    "# from sklearn.metrics import explained_variance_score\n",
    "\n",
    "\n",
    "# def compare(div):\n",
    "#     # data_train, data_test = data_m[:div], data_m[div:]\n",
    "#     data_train, data_test = data_l[:div], data_l[div:]\n",
    "\n",
    "#     stacking = make_solver_selector(\n",
    "#         params={\n",
    "#             \"print_solver\": True,\n",
    "#             \"regressor\": \"stacking\",\n",
    "#             \"samples_before_fit\": 0,\n",
    "#             'exploration': 0,\n",
    "#             \"stacking_datasets\": [\n",
    "#                 get_newest_data_paths(\"examples/1/thermal_dynamic\", n_newest=1),\n",
    "#                 get_newest_data_paths(\n",
    "#                     \"examples/2/thermal_warmstart_m_s_stacking\", n_newest=1\n",
    "#                 ),\n",
    "#             ],\n",
    "#         },\n",
    "#         solver_space=solver_space,\n",
    "#     )\n",
    "\n",
    "#     baseline = make_solver_selector(\n",
    "#         params={\n",
    "#             \"print_solver\": True,\n",
    "#             \"samples_before_fit\": 0,\n",
    "#             'exploration': 0,\n",
    "#             \"load_statistics_paths\": (\n",
    "#                 get_newest_data_paths(\"examples/1/thermal_dynamic\", n_newest=1)\n",
    "#                 + get_newest_data_paths(\"examples/2/thermal_warmstart_m_s_stacking\", n_newest=1)\n",
    "#             ),\n",
    "#         },\n",
    "#         solver_space=solver_space,\n",
    "#     )\n",
    "\n",
    "#     stacking.learn_performance_offline(data_train)\n",
    "#     baseline.learn_performance_offline(data_train)\n",
    "\n",
    "#     stacking_predictions = []\n",
    "#     baseline_predictions = []\n",
    "#     true_targets = []\n",
    "\n",
    "#     for entry in data_test:\n",
    "#         stacking_predictions.append(stacking.select_solver(entry.prediction.context).score)\n",
    "#         baseline_predictions.append(baseline.select_solver(entry.prediction.context).score)\n",
    "#         true_targets.append(entry.rewards[0])\n",
    "#     b_score = explained_variance_score(y_pred=baseline_predictions, y_true=true_targets)\n",
    "#     s_score = explained_variance_score(y_pred=stacking_predictions, y_true=true_targets)\n",
    "#     return b_score, s_score\n",
    "\n",
    "#     return None, None, None\n",
    "#     # stacking_prediction.decision.subsolvers.values()\n",
    "\n",
    "#     # baseline_score = baseline.regressor.score(full_contexts, rewards)\n",
    "#     # stacking_score = stacking.regressor.score(full_contexts, rewards)\n",
    "#     # coefs = list(stacking.regressor.trust_model.coef_) + [\n",
    "#     #     stacking.regressor.trust_model.intercept_\n",
    "#     # ]\n",
    "#     return baseline_score, stacking_score, coefs"
   ]
  },
  {
   "cell_type": "code",
   "execution_count": 4,
   "metadata": {},
   "outputs": [],
   "source": [
    "# from tqdm import tqdm\n",
    "\n",
    "# b_list = []\n",
    "# s_list = []\n",
    "# x_list = np.arange(5, 20)\n",
    "# for i in tqdm(x_list):\n",
    "#     baseline, stacking = compare(div=i)\n",
    "#     b_list.append(baseline)\n",
    "#     s_list.append(stacking)\n"
   ]
  },
  {
   "cell_type": "code",
   "execution_count": 5,
   "metadata": {},
   "outputs": [],
   "source": [
    "# plt.plot(x_list, b_list, label=\"baseline\")\n",
    "# plt.plot(x_list, s_list, label=\"stacking\")\n",
    "# plt.title(\"accuracy\")\n",
    "# # plt.ylim(0, 1)\n",
    "# plt.legend()"
   ]
  },
  {
   "cell_type": "code",
   "execution_count": 6,
   "metadata": {},
   "outputs": [
    {
     "name": "stdout",
     "output_type": "stream",
     "text": [
      "Loading data:\n",
      "/home/firedrake/solver_selector/examples/1/performance/thermal_cpr_26.npy\n"
     ]
    },
    {
     "name": "stderr",
     "output_type": "stream",
     "text": [
      "/home/firedrake/porepy/src/porepy/numerics/nonlinear/nonlinear_solvers.py:13: TqdmExperimentalWarning: Using `tqdm.autonotebook.tqdm` in notebook mode. Use `tqdm.tqdm` instead to force console mode (e.g. in jupyter console)\n",
      "  from tqdm.autonotebook import trange  # type: ignore\n"
     ]
    },
    {
     "name": "stdout",
     "output_type": "stream",
     "text": [
      "Loading data:\n",
      "/home/firedrake/solver_selector/examples/1/performance/thermal_schur_19.npy\n"
     ]
    }
   ],
   "source": [
    "from typing import Sequence\n",
    "from data_scripts import make_simulation_time, make_solve_linear_system_time, sum_per_time_step\n",
    "from solver_selector.data_structures import SolverSelectionData\n",
    "\n",
    "CONVERGED = False\n",
    "\n",
    "data_cpr = load_data('examples/1/thermal_cpr')\n",
    "data_schur = load_data('examples/1/thermal_schur.py')\n",
    "\n",
    "cpr_time = make_simulation_time(data_cpr, converged=CONVERGED)\n",
    "schur_time = make_simulation_time(data_schur, converged=CONVERGED)\n",
    "assert np.all((cpr_time == schur_time)[:-22])\n",
    "cpr_time = cpr_time[:-22]\n",
    "schur_time = schur_time[:-22]\n",
    "\n",
    "cpr_runtime = sum_per_time_step(make_solve_linear_system_time(data_cpr, converged=CONVERGED), data_cpr, converged=CONVERGED)\n",
    "schur_runtime = sum_per_time_step(make_solve_linear_system_time(data_schur, converged=CONVERGED), data_cpr, converged=CONVERGED)\n",
    "\n",
    "select_schur = schur_runtime < cpr_runtime\n",
    "\n",
    "data_best: Sequence[SolverSelectionData]\n",
    "data_best = np.where(select_schur, data_schur, data_cpr)"
   ]
  },
  {
   "cell_type": "code",
   "execution_count": 7,
   "metadata": {},
   "outputs": [
    {
     "name": "stdout",
     "output_type": "stream",
     "text": [
      "Loading data:\n",
      "/home/firedrake/solver_selector/examples/1/performance/thermal_dynamic_33.npy\n"
     ]
    }
   ],
   "source": [
    "data_to_distort = load_data('examples/1/thermal_dynamic.py')\n",
    "for entry in data_to_distort:\n",
    "    rewards = entry.rewards\n",
    "    # noise = np.random.random(len(rewards))\n",
    "    # noise = -1 + noise * 2\n",
    "    # noise *= 1 * (max(rewards) - min(rewards))\n",
    "    # entry.rewards[:] += noise\n",
    "    if 'cpr' in entry.config['gmres']['preconditioner']:\n",
    "    # if np.random.random() > 0.5:\n",
    "        entry.rewards[:] += 100\n",
    "    else:\n",
    "        entry.rewards[:] -= 100\n",
    "    # entry.rewards[:] /= 10\n",
    "\n",
    "np.save('distorted_data.npy', data_to_distort)"
   ]
  },
  {
   "cell_type": "code",
   "execution_count": 8,
   "metadata": {},
   "outputs": [
    {
     "name": "stdout",
     "output_type": "stream",
     "text": [
      "Selecting from 2 solvers.\n",
      "0 gmres - schur_cd [primary - amg, secondary - amg, primary_variable, method]\n",
      "1 gmres - cpr [primary - amg, secondary - ilu, primary_variable]\n",
      "Using epsilon-greedy exploration\n",
      "Using regressor: stacking\n",
      "Building base predictor 0 with data:\n",
      "/home/firedrake/solver_selector/examples/2/performance/thermal_warmstart_l_sm_5.npy\n",
      "Using epsilon-greedy exploration\n",
      "Using regressor: gradient_boosting\n",
      "Building base predictor 1 with data:\n",
      "/home/firedrake/solver_selector/examples/2/performance/thermal_warmstart_m_s_15.npy\n",
      "Using epsilon-greedy exploration\n",
      "Using regressor: gradient_boosting\n",
      "Using epsilon-greedy exploration\n",
      "Using regressor: gradient_boosting\n",
      "Using epsilon-greedy exploration\n",
      "Using regressor: stacking\n",
      "Building base predictor 0 with data:\n",
      "/home/firedrake/solver_selector/examples/2/performance/thermal_warmstart_l_sm_5.npy\n",
      "Using epsilon-greedy exploration\n",
      "Using regressor: gradient_boosting\n",
      "Building base predictor 1 with data:\n",
      "/home/firedrake/solver_selector/examples/2/performance/thermal_warmstart_m_s_15.npy\n",
      "Using epsilon-greedy exploration\n",
      "Using regressor: gradient_boosting\n",
      "Using epsilon-greedy exploration\n",
      "Using regressor: gradient_boosting\n",
      "Selecting from 2 solvers.\n",
      "0 gmres - schur_cd [primary - amg, secondary - amg, primary_variable, method]\n",
      "1 gmres - cpr [primary - amg, secondary - ilu, primary_variable]\n",
      "Using epsilon-greedy exploration\n",
      "Using regressor: gradient_boosting\n",
      "Using epsilon-greedy exploration\n",
      "Using regressor: gradient_boosting\n",
      "Warm start using data:\n",
      "/home/firedrake/solver_selector/examples/2/performance/thermal_warmstart_l_sm_5.npy\n",
      "/home/firedrake/solver_selector/examples/2/performance/thermal_warmstart_m_s_15.npy\n"
     ]
    }
   ],
   "source": [
    "stacking = make_solver_selector(\n",
    "    params={\n",
    "        \"print_solver\": True,\n",
    "        \"regressor\": \"stacking\",\n",
    "        \"samples_before_fit\": 0,\n",
    "        \"exploration\": 0,\n",
    "        \"stacking_datasets\": [\n",
    "            get_newest_data_paths(\"examples/2/thermal_warmstart_l_sm\", n_newest=1),\n",
    "            get_newest_data_paths(\"examples/2/thermal_warmstart_m_s\", n_newest=1),\n",
    "            # get_newest_data_paths(\"examples/1/thermal_random.py\")\n",
    "            # ['distorted_data.npy']\n",
    "        ],\n",
    "    },\n",
    "    solver_space=solver_space,\n",
    ")\n",
    "\n",
    "baseline = make_solver_selector(\n",
    "    params={\n",
    "        \"print_solver\": True,\n",
    "        \"samples_before_fit\": 0,\n",
    "        \"exploration\": 0,\n",
    "        \"load_statistics_paths\": (\n",
    "            get_newest_data_paths(\"examples/2/thermal_warmstart_l_sm\", n_newest=1)\n",
    "            + \n",
    "            get_newest_data_paths(\"examples/2/thermal_warmstart_m_s\", n_newest=1)\n",
    "            # +\n",
    "            # get_newest_data_paths(\"examples/1/thermal_random.py\")\n",
    "            # +\n",
    "            # ['distorted_data.npy']\n",
    "        ),\n",
    "    },\n",
    "    solver_space=solver_space,\n",
    ")"
   ]
  },
  {
   "cell_type": "code",
   "execution_count": 9,
   "metadata": {},
   "outputs": [
    {
     "name": "stderr",
     "output_type": "stream",
     "text": [
      "  0%|          | 0/230 [00:00<?, ?it/s]"
     ]
    },
    {
     "name": "stderr",
     "output_type": "stream",
     "text": [
      "100%|██████████| 230/230 [01:08<00:00,  3.34it/s]\n"
     ]
    }
   ],
   "source": [
    "from tqdm import tqdm\n",
    "\n",
    "b_successes = []\n",
    "s_successes = []\n",
    "\n",
    "for time_step in tqdm(data_best[:]):\n",
    "    s_pred = stacking.select_solver(time_step.prediction.context)\n",
    "    b_pred = baseline.select_solver(time_step.prediction.context)\n",
    "    s_config = solver_space.config_from_decision(s_pred.decision)\n",
    "    b_config = solver_space.config_from_decision(b_pred.decision)\n",
    "    true = time_step.config\n",
    "\n",
    "    b_successes.append(b_config == true)\n",
    "    s_successes.append(s_config == true)\n",
    "\n",
    "    true_decision = solver_space.decision_from_config(true)\n",
    "\n",
    "    time_step.prediction.decision.subsolvers.clear()\n",
    "    time_step.prediction.decision.subsolvers.update(true_decision.subsolvers)\n",
    "    stacking.learn_performance_online(time_step)\n",
    "\n",
    "    time_step.prediction.decision.subsolvers.clear()\n",
    "    time_step.prediction.decision.subsolvers.update(true_decision.subsolvers)\n",
    "    baseline.learn_performance_online(time_step)"
   ]
  },
  {
   "cell_type": "code",
   "execution_count": 10,
   "metadata": {},
   "outputs": [
    {
     "data": {
      "text/plain": [
       "<matplotlib.legend.Legend at 0x7f6311bcb160>"
      ]
     },
     "execution_count": 10,
     "metadata": {},
     "output_type": "execute_result"
    },
    {
     "data": {
      "image/png": "[encoded data removed]",
      "text/plain": [
       "<Figure size 640x480 with 1 Axes>"
      ]
     },
     "metadata": {},
     "output_type": "display_data"
    }
   ],
   "source": [
    "plt.plot(np.cumsum(b_successes), label='baseline')\n",
    "plt.plot(np.cumsum(s_successes), label='stacking')\n",
    "plt.legend()"
   ]
  },
  {
   "cell_type": "code",
   "execution_count": 11,
   "metadata": {},
   "outputs": [
    {
     "data": {
      "text/plain": [
       "array([ 0.00929072, -0.00285708,  1.00718767])"
      ]
     },
     "execution_count": 11,
     "metadata": {},
     "output_type": "execute_result"
    }
   ],
   "source": [
    "stacking.predictors[0].regressor.trust_model.coef_"
   ]
  },
  {
   "cell_type": "code",
   "execution_count": 12,
   "metadata": {},
   "outputs": [
    {
     "data": {
      "text/plain": [
       "array([ 0.0135715 , -0.00259131,  1.00172112])"
      ]
     },
     "execution_count": 12,
     "metadata": {},
     "output_type": "execute_result"
    }
   ],
   "source": [
    "stacking.predictors[1].regressor.trust_model.coef_"
   ]
  }
 ],
 "metadata": {
  "kernelspec": {
   "display_name": "firedrake",
   "language": "python",
   "name": "python3"
  },
  "language_info": {
   "codemirror_mode": {
    "name": "ipython",
    "version": 3
   },
   "file_extension": ".py",
   "mimetype": "text/x-python",
   "name": "python",
   "nbconvert_exporter": "python",
   "pygments_lexer": "ipython3",
   "version": "3.10.12"
  },
  "orig_nbformat": 4
 },
 "nbformat": 4,
 "nbformat_minor": 2
}
